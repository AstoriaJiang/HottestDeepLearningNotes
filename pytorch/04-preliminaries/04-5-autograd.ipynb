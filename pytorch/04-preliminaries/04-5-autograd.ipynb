{
 "cells": [
  {
   "cell_type": "markdown",
   "id": "8f592b7e",
   "metadata": {
    "origin_pos": 0
   },
   "source": [
    "# 自动微分\n",
    "\n",
    "深度学习框架通过自动计算导数，即**自动微分**（automatic differentiation）来加快求导。\n",
    "实际中，根据设计好的模型，系统会构建一个**计算图**（computational graph），\n",
    "来跟踪计算是哪些数据通过哪些操作组合起来产生输出。\n",
    "自动微分使系统能够随后反向传播梯度。\n",
    "这里，**反向传播**（backpropagate）意味着跟踪整个计算图，填充关于每个参数的偏导数。"
   ]
  },
  {
   "cell_type": "markdown",
   "id": "f3d32f7d-ddb9-4e95-9f4e-3c85e5b8d949",
   "metadata": {},
   "source": [
    "## 一个简单的例子\n",
    "\n",
    "**假设我们想对函数$y=2\\mathbf{x}^{\\top}\\mathbf{x}$关于列向量$\\mathbf{x}$求导**。\n",
    "首先，我们创建变量`x`并为其分配一个初始值。"
   ]
  },
  {
   "cell_type": "code",
   "execution_count": 14,
   "id": "498c3ed5",
   "metadata": {
    "origin_pos": 2,
    "tab": [
     "pytorch"
    ]
   },
   "outputs": [
    {
     "data": {
      "text/plain": [
       "tensor([0., 1., 2., 3.])"
      ]
     },
     "execution_count": 14,
     "metadata": {},
     "output_type": "execute_result"
    }
   ],
   "source": [
    "import torch\n",
    "\n",
    "x = torch.arange(4.0)\n",
    "x"
   ]
  },
  {
   "cell_type": "markdown",
   "id": "ee187726",
   "metadata": {
    "origin_pos": 5
   },
   "source": [
    "**在我们计算$y$关于$\\mathbf{x}$的梯度之前，需要一个地方来存储梯度。**\n",
    "\n",
    "重要的是，我们不会在每次对一个参数求导时都分配新的内存。\n",
    "因为我们经常会成千上万次地更新相同的参数，每次都分配新的内存可能很快就会将内存耗尽。\n",
    "注意，一个标量函数关于向量$\\mathbf{x}$的梯度是向量，并且与$\\mathbf{x}$具有相同的形状。\n"
   ]
  },
  {
   "cell_type": "code",
   "execution_count": 15,
   "id": "f8f4026b",
   "metadata": {
    "origin_pos": 7,
    "tab": [
     "pytorch"
    ]
   },
   "outputs": [],
   "source": [
    "x.requires_grad_(True)  # 等价于x=torch.arange(4.0,requires_grad=True)\n",
    "x.grad  # 默认值是None"
   ]
  },
  {
   "cell_type": "markdown",
   "id": "4fd755d2",
   "metadata": {
    "origin_pos": 10
   },
   "source": [
    "现在计算$y$。\n"
   ]
  },
  {
   "cell_type": "code",
   "execution_count": 16,
   "id": "eeb79797",
   "metadata": {
    "origin_pos": 12,
    "tab": [
     "pytorch"
    ]
   },
   "outputs": [
    {
     "data": {
      "text/plain": [
       "tensor(28., grad_fn=<MulBackward0>)"
      ]
     },
     "execution_count": 16,
     "metadata": {},
     "output_type": "execute_result"
    }
   ],
   "source": [
    "y = 2 * torch.dot(x, x)\n",
    "y"
   ]
  },
  {
   "cell_type": "markdown",
   "id": "614f1281",
   "metadata": {
    "origin_pos": 15
   },
   "source": [
    "接下来，**通过调用反向传播函数来自动计算`y`关于`x`每个分量的梯度**，并打印这些梯度。\n",
    "\n",
    "注：$\\nabla_{\\mathbf{x}} 2\\mathbf{x}^{\\top}\\mathbf{x} = 4\\mathbf{x}$"
   ]
  },
  {
   "cell_type": "code",
   "execution_count": 17,
   "id": "b21e1420",
   "metadata": {
    "origin_pos": 17,
    "scrolled": true,
    "tab": [
     "pytorch"
    ]
   },
   "outputs": [
    {
     "data": {
      "text/plain": [
       "tensor([ 0.,  4.,  8., 12.])"
      ]
     },
     "execution_count": 17,
     "metadata": {},
     "output_type": "execute_result"
    }
   ],
   "source": [
    "y.backward()\n",
    "x.grad"
   ]
  },
  {
   "cell_type": "markdown",
   "id": "e892b1d5",
   "metadata": {
    "origin_pos": 20
   },
   "source": [
    "让我们快速验证这个梯度是否计算正确。"
   ]
  },
  {
   "cell_type": "code",
   "execution_count": 18,
   "id": "f72da1f0",
   "metadata": {
    "origin_pos": 22,
    "tab": [
     "pytorch"
    ]
   },
   "outputs": [
    {
     "data": {
      "text/plain": [
       "tensor([True, True, True, True])"
      ]
     },
     "execution_count": 18,
     "metadata": {},
     "output_type": "execute_result"
    }
   ],
   "source": [
    "x.grad == 4 * x"
   ]
  },
  {
   "cell_type": "markdown",
   "id": "355dc4bd",
   "metadata": {
    "origin_pos": 25
   },
   "source": [
    "现在计算`x`的另一个函数。\n"
   ]
  },
  {
   "cell_type": "code",
   "execution_count": 19,
   "id": "e18e98cc",
   "metadata": {
    "origin_pos": 27,
    "tab": [
     "pytorch"
    ]
   },
   "outputs": [
    {
     "data": {
      "text/plain": [
       "tensor([1., 1., 1., 1.])"
      ]
     },
     "execution_count": 19,
     "metadata": {},
     "output_type": "execute_result"
    }
   ],
   "source": [
    "# 在默认情况下，PyTorch会累积梯度，我们需要清除之前的值\n",
    "x.grad.zero_()\n",
    "g = x.sum()\n",
    "g.backward()\n",
    "x.grad"
   ]
  },
  {
   "cell_type": "markdown",
   "id": "640dee7e",
   "metadata": {
    "origin_pos": 30
   },
   "source": [
    "## 非标量变量的反向传播\n",
    "\n",
    "当`y`不是标量时，向量`y`关于向量`x`的导数的最自然解释是一个**矩阵**。\n",
    "对于高阶和高维的`y`和`x`，求导的结果可以是一个**高阶张量**。\n",
    "\n",
    "当调用向量的反向计算时，我们通常会试图计算一批训练样本中每个组成部分的损失函数的导数。\n",
    "这里，**我们的目的不是计算微分矩阵，而是单独计算批量中每个样本的偏导数之和。**\n"
   ]
  },
  {
   "cell_type": "markdown",
   "id": "aafab3c8-d653-4624-b80c-bcbf58981af5",
   "metadata": {},
   "source": [
    "```\n",
    "torch.autograd.backward(\n",
    "\t\ttensors, \n",
    "\t\tgrad_tensors=None, \n",
    "\t\tretain_graph=None, \n",
    "\t\tcreate_graph=False, \n",
    "\t\tgrad_variables=None)\n",
    "```\n",
    "\n",
    "注：`torch.autograd.backward(z) == z.backward()`\n",
    "\n",
    "- `tensor`: 用于计算梯度的tensor。\n",
    "- `grad_tensors`: 可以简单地理解成在求梯度时的权重，一般是设为1。也是一个tensor，shape一般需要和前面的tensor保持一致。\n",
    "- `retain_graph`: 通常在调用一次backward后，pytorch会自动把计算图销毁，所以要想对某个变量重复调用backward，则需要将该参数设置为True\n",
    "- `create_graph`: 当设置为True的时候可以用来计算更高阶的梯度"
   ]
  },
  {
   "cell_type": "markdown",
   "id": "7f530d88-c0e5-4ca6-85a0-1b55c4d744f3",
   "metadata": {},
   "source": [
    "注：`.backward()`只能对**标量输出**求导\n",
    "\n",
    "```\n",
    "z.backward(y) # y和z的shape相同，都是向量\n",
    "torch.dot(z , y).backward() # 等价\n",
    "torch.sum(z * y).backward() # 等价\n",
    "```"
   ]
  },
  {
   "cell_type": "code",
   "execution_count": 21,
   "id": "de02a306",
   "metadata": {
    "origin_pos": 32,
    "tab": [
     "pytorch"
    ]
   },
   "outputs": [
    {
     "name": "stdout",
     "output_type": "stream",
     "text": [
      "tensor([0., 2., 4., 6.])\n",
      "tensor([0., 2., 4., 6.])\n"
     ]
    }
   ],
   "source": [
    "# 对非标量调用backward需要传入一个gradient参数，该参数指定微分函数关于self的梯度。\n",
    "# 本例只想求偏导数的和，所以传递一个1的梯度是合适的\n",
    "x.grad.zero_()\n",
    "y = x * x\n",
    "y.sum().backward(retain_graph=True) # 等价于y.backward(torch.ones(len(x)))\n",
    "print(x.grad)\n",
    "\n",
    "x.grad.zero_()\n",
    "y.backward(torch.ones(len(x)), retain_graph=True)\n",
    "print(x.grad)"
   ]
  },
  {
   "cell_type": "markdown",
   "id": "ca55ef50",
   "metadata": {
    "origin_pos": 35
   },
   "source": [
    "## 分离计算\n",
    "\n",
    "有时，我们希望[**将某些计算移动到记录的计算图之外**]。\n",
    "例如，假设`y`是作为`x`的函数计算的，而`z`则是作为`y`和`x`的函数计算的。\n",
    "想象一下，我们想计算`z`关于`x`的梯度，但由于某种原因，希望将`y`视为一个常数，\n",
    "并且只考虑到`x`在`y`被计算后发挥的作用。\n",
    "\n",
    "这里可以分离`y`来返回一个新变量`u`，该变量与`y`具有相同的值，\n",
    "但丢弃计算图中如何计算`y`的任何信息。\n",
    "换句话说，梯度不会向后流经`u`到`x`。\n",
    "因此，下面的反向传播函数计算`z=u*x`关于`x`的偏导数，同时将`u`作为常数处理，\n",
    "而不是`z=x*x*x`关于`x`的偏导数。\n"
   ]
  },
  {
   "cell_type": "markdown",
   "id": "a672f00b-7428-4534-9f49-2e7b7995f08d",
   "metadata": {},
   "source": [
    "`tensor.detach()`返回一个新的tensor，从当前计算图中分离下来的，但是仍指向原变量的存放位置,不同之处只是requires_grad为false，得到的这个tensor永远不需要计算其梯度，不具有grad。\n",
    "\n",
    "使用detach返回的tensor和原始的tensor**共享同一个内存**，即一个修改另一个也会跟着改变。"
   ]
  },
  {
   "cell_type": "code",
   "execution_count": 24,
   "id": "a0d0a164",
   "metadata": {
    "origin_pos": 37,
    "tab": [
     "pytorch"
    ]
   },
   "outputs": [
    {
     "name": "stdout",
     "output_type": "stream",
     "text": [
      "tensor([0., 1., 4., 9.])\n"
     ]
    },
    {
     "data": {
      "text/plain": [
       "tensor([True, True, True, True])"
      ]
     },
     "execution_count": 24,
     "metadata": {},
     "output_type": "execute_result"
    }
   ],
   "source": [
    "x.grad.zero_()\n",
    "y = x * x\n",
    "u = y.detach()\n",
    "z = u * x\n",
    "\n",
    "z.sum().backward()\n",
    "print(x.grad)\n",
    "x.grad == u"
   ]
  },
  {
   "cell_type": "markdown",
   "id": "e7d753da",
   "metadata": {
    "origin_pos": 40
   },
   "source": [
    "由于记录了`y`的计算结果，我们可以随后在`y`上调用反向传播，\n",
    "得到`y=x*x`关于的`x`的导数，即`2*x`。\n"
   ]
  },
  {
   "cell_type": "code",
   "execution_count": 25,
   "id": "16899140",
   "metadata": {
    "origin_pos": 42,
    "tab": [
     "pytorch"
    ]
   },
   "outputs": [
    {
     "data": {
      "text/plain": [
       "tensor([True, True, True, True])"
      ]
     },
     "execution_count": 25,
     "metadata": {},
     "output_type": "execute_result"
    }
   ],
   "source": [
    "x.grad.zero_()\n",
    "y.sum().backward()\n",
    "x.grad == 2 * x"
   ]
  },
  {
   "cell_type": "markdown",
   "id": "c8831f3d",
   "metadata": {
    "origin_pos": 45
   },
   "source": [
    "## Python控制流的梯度计算\n",
    "\n",
    "使用自动微分的一个好处是：\n",
    "**即使构建函数的计算图需要通过Python控制流（例如，条件、循环或任意函数调用），我们仍然可以计算得到的变量的梯度**。\n",
    "\n",
    "在下面的代码中，`while`循环的迭代次数和`if`语句的结果都取决于输入`a`的值。\n"
   ]
  },
  {
   "cell_type": "code",
   "execution_count": 26,
   "id": "e4eb430b",
   "metadata": {
    "origin_pos": 47,
    "tab": [
     "pytorch"
    ]
   },
   "outputs": [],
   "source": [
    "def f(a):\n",
    "    b = a * 2\n",
    "    while b.norm() < 1000:\n",
    "        b = b * 2\n",
    "    if b.sum() > 0:\n",
    "        c = b\n",
    "    else:\n",
    "        c = 100 * b\n",
    "    return c"
   ]
  },
  {
   "cell_type": "markdown",
   "id": "b7ae43cf",
   "metadata": {
    "origin_pos": 50
   },
   "source": [
    "让我们计算梯度。\n"
   ]
  },
  {
   "cell_type": "code",
   "execution_count": 28,
   "id": "4251a67a",
   "metadata": {
    "origin_pos": 52,
    "tab": [
     "pytorch"
    ]
   },
   "outputs": [],
   "source": [
    "a = torch.randn(size=(), requires_grad=True)\n",
    "d = f(a)\n",
    "d.backward()"
   ]
  },
  {
   "cell_type": "markdown",
   "id": "6b607640",
   "metadata": {
    "origin_pos": 55
   },
   "source": [
    "我们现在可以分析上面定义的`f`函数。\n",
    "对于任何`a`，存在某个常量标量`k`，使得`f(a)=k*a`，其中`k`的值取决于输入`a`，因此可以用`d/a`验证梯度是否正确。\n"
   ]
  },
  {
   "cell_type": "code",
   "execution_count": 29,
   "id": "cd3e9d01",
   "metadata": {
    "origin_pos": 57,
    "tab": [
     "pytorch"
    ]
   },
   "outputs": [
    {
     "data": {
      "text/plain": [
       "tensor(True)"
      ]
     },
     "execution_count": 29,
     "metadata": {},
     "output_type": "execute_result"
    }
   ],
   "source": [
    "a.grad == d / a"
   ]
  },
  {
   "cell_type": "markdown",
   "id": "74238334",
   "metadata": {
    "origin_pos": 60
   },
   "source": [
    "## 小结\n",
    "\n",
    "深度学习框架可以自动计算导数：我们首先将**梯度附加**到想要对其计算偏导数的**变量**上，然后**记录目标值的计算**，执行它的**反向传播**函数，并访问**得到的梯度**。\n",
    "\n",
    "## 练习\n",
    "\n",
    "1. 为什么计算二阶导数比一阶导数的开销要更大？\n",
    "2. 在运行反向传播函数之后，立即再次运行它，看看会发生什么。\n",
    "- `RuntimeError: Trying to backward through the graph a second time (or directly access saved tensors after they have already been freed). Saved intermediate values of the graph are freed when you call .backward() or autograd.grad(). Specify retain_graph=True if you need to backward through the graph a second time or if you need to access saved tensors after calling backward.`\n"
   ]
  },
  {
   "cell_type": "markdown",
   "id": "04cc85bb-e9a1-4e95-b0da-af8e038f20a4",
   "metadata": {},
   "source": [
    "3. 在控制流的例子中，我们计算`d`关于`a`的导数，如果将变量`a`更改为随机向量或矩阵，会发生什么？"
   ]
  },
  {
   "cell_type": "code",
   "execution_count": 30,
   "id": "c2dfaf15-65b5-4423-a6d6-aeb8795bb149",
   "metadata": {},
   "outputs": [
    {
     "name": "stdout",
     "output_type": "stream",
     "text": [
      "tensor([[102400., 102400.]])\n",
      "tensor([[True, True]])\n"
     ]
    }
   ],
   "source": [
    "a = torch.randn(size=(1,2), requires_grad=True)\n",
    "d = f(a)\n",
    "d.sum().backward()\n",
    "print(a.grad)\n",
    "print(a.grad == d / a)"
   ]
  },
  {
   "cell_type": "markdown",
   "id": "99fd12e2-8db2-4408-aa15-ca9af4a9aa49",
   "metadata": {},
   "source": [
    "4. 重新设计一个求控制流梯度的例子，运行并分析结果。"
   ]
  },
  {
   "cell_type": "code",
   "execution_count": 33,
   "id": "93fe1c6f-54f0-46a4-a4be-0eb69d7852e7",
   "metadata": {},
   "outputs": [
    {
     "name": "stdout",
     "output_type": "stream",
     "text": [
      "tensor(6.2460) tensor(5.9910, grad_fn=<ExpBackward0>)\n"
     ]
    }
   ],
   "source": [
    "import math\n",
    "def h(x):\n",
    "    for i in range(3):\n",
    "        x = torch.exp(x)\n",
    "    return x\n",
    "\n",
    "i = torch.randn(size=(), requires_grad=True)\n",
    "j = h(i)\n",
    "j.backward()\n",
    "print(i.grad,j)"
   ]
  },
  {
   "cell_type": "markdown",
   "id": "b955d6dc-a575-4db5-a91a-aac1b31259bd",
   "metadata": {},
   "source": [
    "\n",
    "5. 使$f(x)=\\sin(x)$，绘制$f(x)$和$\\frac{df(x)}{dx}$的图像，其中后者不使用$f'(x)=\\cos(x)$。"
   ]
  },
  {
   "cell_type": "markdown",
   "id": "ba845e3d",
   "metadata": {
    "origin_pos": 62,
    "tab": [
     "pytorch"
    ]
   },
   "source": [
    "[Discussions](https://discuss.d2l.ai/t/1759)\n"
   ]
  }
 ],
 "metadata": {
  "kernelspec": {
   "display_name": "Python 3 (ipykernel)",
   "language": "python",
   "name": "python3"
  },
  "language_info": {
   "codemirror_mode": {
    "name": "ipython",
    "version": 3
   },
   "file_extension": ".py",
   "mimetype": "text/x-python",
   "name": "python",
   "nbconvert_exporter": "python",
   "pygments_lexer": "ipython3",
   "version": "3.9.23"
  }
 },
 "nbformat": 4,
 "nbformat_minor": 5
}
