{
 "cells": [
  {
   "cell_type": "markdown",
   "id": "8f592b7e",
   "metadata": {
    "origin_pos": 0
   },
   "source": [
    "# 自动微分\n",
    "\n",
    "深度学习框架通过自动计算导数，即**自动微分**（automatic differentiation）来加快求导。\n",
    "\n",
    "实际中，根据设计好的模型，系统会构建一个**计算图**（computational graph），\n",
    "来跟踪计算是哪些数据通过哪些操作组合起来产生输出。\n",
    "\n",
    "自动微分使系统能够随后反向传播梯度。\n",
    "这里，**反向传播**（backpropagate）意味着跟踪整个计算图，填充关于每个参数的偏导数。\n",
    "\n",
    "- 自动微分\n",
    "    - 一个简单的例子\n",
    "    - 非标量变量的反向传播\n",
    "    - 分离计算\n",
    "    - python控制流的梯度计算"
   ]
  },
  {
   "cell_type": "markdown",
   "id": "f3d32f7d-ddb9-4e95-9f4e-3c85e5b8d949",
   "metadata": {},
   "source": [
    "## 一个简单的例子\n",
    "\n",
    "**假设我们想对函数$y=2\\mathbf{x}^{\\top}\\mathbf{x}$关于列向量$\\mathbf{x}$求导**。\n",
    "首先，我们创建变量`x`并为其分配一个初始值。"
   ]
  },
  {
   "cell_type": "code",
   "execution_count": 1,
   "id": "498c3ed5",
   "metadata": {
    "origin_pos": 2,
    "tab": [
     "pytorch"
    ]
   },
   "outputs": [
    {
     "data": {
      "text/plain": [
       "tensor([0., 1., 2., 3.])"
      ]
     },
     "execution_count": 1,
     "metadata": {},
     "output_type": "execute_result"
    }
   ],
   "source": [
    "import torch\n",
    "\n",
    "x = torch.arange(4.0)\n",
    "x"
   ]
  },
  {
   "cell_type": "markdown",
   "id": "ee187726",
   "metadata": {
    "origin_pos": 5
   },
   "source": [
    "**在我们计算$y$关于$\\mathbf{x}$的梯度之前，需要一个地方来存储梯度。**\n",
    "\n",
    "重要的是，我们不会在每次对一个参数求导时都分配新的内存。\n",
    "因为我们经常会成千上万次地更新相同的参数，每次都分配新的内存可能很快就会将内存耗尽。\n",
    "注意，一个标量函数关于向量$\\mathbf{x}$的梯度是向量，并且与$\\mathbf{x}$具有相同的形状。\n"
   ]
  },
  {
   "cell_type": "code",
   "execution_count": 2,
   "id": "f8f4026b",
   "metadata": {
    "origin_pos": 7,
    "tab": [
     "pytorch"
    ]
   },
   "outputs": [],
   "source": [
    "x.requires_grad_(True)  # 等价于x=torch.arange(4.0,requires_grad=True)\n",
    "x.grad  # 默认值是None"
   ]
  },
  {
   "cell_type": "markdown",
   "id": "4fd755d2",
   "metadata": {
    "origin_pos": 10
   },
   "source": [
    "现在计算$y$。\n"
   ]
  },
  {
   "cell_type": "code",
   "execution_count": 3,
   "id": "eeb79797",
   "metadata": {
    "origin_pos": 12,
    "tab": [
     "pytorch"
    ]
   },
   "outputs": [
    {
     "data": {
      "text/plain": [
       "tensor(28., grad_fn=<MulBackward0>)"
      ]
     },
     "execution_count": 3,
     "metadata": {},
     "output_type": "execute_result"
    }
   ],
   "source": [
    "y = 2 * torch.dot(x, x)\n",
    "y"
   ]
  },
  {
   "cell_type": "markdown",
   "id": "614f1281",
   "metadata": {
    "origin_pos": 15
   },
   "source": [
    "接下来，**通过调用反向传播函数来自动计算`y`关于`x`每个分量的梯度**，并打印这些梯度。\n",
    "\n",
    "注：$\\nabla_{\\mathbf{x}} 2\\mathbf{x}^{\\top}\\mathbf{x} = 4\\mathbf{x}$"
   ]
  },
  {
   "cell_type": "code",
   "execution_count": 4,
   "id": "b21e1420",
   "metadata": {
    "origin_pos": 17,
    "scrolled": true,
    "tab": [
     "pytorch"
    ]
   },
   "outputs": [
    {
     "data": {
      "text/plain": [
       "tensor([ 0.,  4.,  8., 12.])"
      ]
     },
     "execution_count": 4,
     "metadata": {},
     "output_type": "execute_result"
    }
   ],
   "source": [
    "y.backward()\n",
    "x.grad"
   ]
  },
  {
   "cell_type": "markdown",
   "id": "e892b1d5",
   "metadata": {
    "origin_pos": 20
   },
   "source": [
    "让我们快速验证这个梯度是否计算正确。"
   ]
  },
  {
   "cell_type": "code",
   "execution_count": 5,
   "id": "f72da1f0",
   "metadata": {
    "origin_pos": 22,
    "tab": [
     "pytorch"
    ]
   },
   "outputs": [
    {
     "data": {
      "text/plain": [
       "tensor([True, True, True, True])"
      ]
     },
     "execution_count": 5,
     "metadata": {},
     "output_type": "execute_result"
    }
   ],
   "source": [
    "x.grad == 4 * x"
   ]
  },
  {
   "cell_type": "markdown",
   "id": "355dc4bd",
   "metadata": {
    "origin_pos": 25
   },
   "source": [
    "现在计算`x`的另一个函数。\n"
   ]
  },
  {
   "cell_type": "code",
   "execution_count": 6,
   "id": "e18e98cc",
   "metadata": {
    "origin_pos": 27,
    "tab": [
     "pytorch"
    ]
   },
   "outputs": [
    {
     "data": {
      "text/plain": [
       "tensor([1., 1., 1., 1.])"
      ]
     },
     "execution_count": 6,
     "metadata": {},
     "output_type": "execute_result"
    }
   ],
   "source": [
    "# 在默认情况下，PyTorch会累积梯度，我们需要清除之前的值\n",
    "x.grad.zero_()\n",
    "g = x.sum()\n",
    "g.backward()\n",
    "x.grad"
   ]
  },
  {
   "cell_type": "markdown",
   "id": "640dee7e",
   "metadata": {
    "origin_pos": 30
   },
   "source": [
    "## 非标量变量的反向传播\n",
    "\n",
    "当`y`不是标量时，向量`y`关于向量`x`的导数的最自然解释是一个**矩阵**。\n",
    "对于高阶和高维的`y`和`x`，求导的结果可以是一个**高阶张量**。\n",
    "\n",
    "当调用向量的反向计算时，我们通常会试图计算一批训练样本中每个组成部分的损失函数的导数。\n",
    "这里，**我们的目的不是计算微分矩阵，而是单独计算批量中每个样本的偏导数之和。**\n"
   ]
  },
  {
   "cell_type": "markdown",
   "id": "aafab3c8-d653-4624-b80c-bcbf58981af5",
   "metadata": {},
   "source": [
    "```\n",
    "torch.autograd.backward(\n",
    "\t\ttensors, \n",
    "\t\tgrad_tensors=None, \n",
    "\t\tretain_graph=None, \n",
    "\t\tcreate_graph=False, \n",
    "\t\tgrad_variables=None)\n",
    "```\n",
    "\n",
    "注：`torch.autograd.backward(z) == z.backward()`\n",
    "\n",
    "- `tensor`: 用于计算梯度的tensor。\n",
    "- `grad_tensors`: 可以简单地理解成在求梯度时的权重，一般是设为1。也是一个tensor，shape一般需要和前面的tensor保持一致。\n",
    "- `retain_graph`: 通常在调用一次backward后，pytorch会自动把计算图销毁，所以要想对某个变量重复调用backward，则需要将该参数设置为True\n",
    "- `create_graph`: 当设置为True的时候可以用来计算更高阶的梯度"
   ]
  },
  {
   "cell_type": "markdown",
   "id": "7f530d88-c0e5-4ca6-85a0-1b55c4d744f3",
   "metadata": {},
   "source": [
    "注：`.backward()`只能对**标量输出**求导\n",
    "\n",
    "```\n",
    "z.backward(y) # y和z的shape相同，都是向量\n",
    "torch.dot(z , y).backward() # 等价\n",
    "torch.sum(z * y).backward() # 等价\n",
    "```"
   ]
  },
  {
   "cell_type": "code",
   "execution_count": 7,
   "id": "de02a306",
   "metadata": {
    "origin_pos": 32,
    "tab": [
     "pytorch"
    ]
   },
   "outputs": [
    {
     "name": "stdout",
     "output_type": "stream",
     "text": [
      "tensor([0., 2., 4., 6.])\n",
      "tensor([0., 2., 4., 6.])\n"
     ]
    }
   ],
   "source": [
    "# 对非标量调用backward需要传入一个gradient参数，该参数指定微分函数关于self的梯度。\n",
    "# 本例只想求偏导数的和，所以传递一个1的梯度是合适的\n",
    "x.grad.zero_()\n",
    "y = x * x\n",
    "y.sum().backward(retain_graph=True) # 等价于y.backward(torch.ones(len(x)))\n",
    "print(x.grad)\n",
    "\n",
    "x.grad.zero_()\n",
    "y.backward(torch.ones(len(x)), retain_graph=True)\n",
    "print(x.grad)"
   ]
  },
  {
   "cell_type": "markdown",
   "id": "ca55ef50",
   "metadata": {
    "origin_pos": 35
   },
   "source": [
    "## 分离计算\n",
    "\n",
    "有时，我们希望[**将某些计算移动到记录的计算图之外**]。\n",
    "例如，假设`y`是作为`x`的函数计算的，而`z`则是作为`y`和`x`的函数计算的。\n",
    "想象一下，我们想计算`z`关于`x`的梯度，但由于某种原因，希望将`y`视为一个常数，\n",
    "并且只考虑到`x`在`y`被计算后发挥的作用。\n",
    "\n",
    "这里可以分离`y`来返回一个新变量`u`，该变量与`y`具有相同的值，\n",
    "但丢弃计算图中如何计算`y`的任何信息。\n",
    "换句话说，梯度不会向后流经`u`到`x`。\n",
    "因此，下面的反向传播函数计算`z=u*x`关于`x`的偏导数，同时将`u`作为常数处理，\n",
    "而不是`z=x*x*x`关于`x`的偏导数。\n"
   ]
  },
  {
   "cell_type": "markdown",
   "id": "a672f00b-7428-4534-9f49-2e7b7995f08d",
   "metadata": {},
   "source": [
    "`tensor.detach()`返回一个新的tensor，从当前计算图中分离下来的，但是仍指向原变量的存放位置,不同之处只是requires_grad为false，得到的这个tensor永远不需要计算其梯度，不具有grad。\n",
    "\n",
    "使用detach返回的tensor和原始的tensor**共享同一个内存**，即一个修改另一个也会跟着改变。"
   ]
  },
  {
   "cell_type": "code",
   "execution_count": 8,
   "id": "a0d0a164",
   "metadata": {
    "origin_pos": 37,
    "tab": [
     "pytorch"
    ]
   },
   "outputs": [
    {
     "name": "stdout",
     "output_type": "stream",
     "text": [
      "tensor([0., 1., 4., 9.])\n"
     ]
    },
    {
     "data": {
      "text/plain": [
       "tensor([True, True, True, True])"
      ]
     },
     "execution_count": 8,
     "metadata": {},
     "output_type": "execute_result"
    }
   ],
   "source": [
    "x.grad.zero_()\n",
    "y = x * x\n",
    "u = y.detach()\n",
    "z = u * x\n",
    "\n",
    "z.sum().backward()\n",
    "print(x.grad)\n",
    "x.grad == u"
   ]
  },
  {
   "cell_type": "markdown",
   "id": "e7d753da",
   "metadata": {
    "origin_pos": 40
   },
   "source": [
    "由于记录了`y`的计算结果，我们可以随后在`y`上调用反向传播，\n",
    "得到`y=x*x`关于的`x`的导数，即`2*x`。\n"
   ]
  },
  {
   "cell_type": "code",
   "execution_count": 9,
   "id": "16899140",
   "metadata": {
    "origin_pos": 42,
    "tab": [
     "pytorch"
    ]
   },
   "outputs": [
    {
     "data": {
      "text/plain": [
       "tensor([True, True, True, True])"
      ]
     },
     "execution_count": 9,
     "metadata": {},
     "output_type": "execute_result"
    }
   ],
   "source": [
    "x.grad.zero_()\n",
    "y.sum().backward()\n",
    "x.grad == 2 * x"
   ]
  },
  {
   "cell_type": "markdown",
   "id": "c8831f3d",
   "metadata": {
    "origin_pos": 45
   },
   "source": [
    "## Python控制流的梯度计算\n",
    "\n",
    "使用自动微分的一个好处是：\n",
    "**即使构建函数的计算图需要通过Python控制流（例如，条件、循环或任意函数调用），我们仍然可以计算得到的变量的梯度**。\n",
    "\n",
    "在下面的代码中，`while`循环的迭代次数和`if`语句的结果都取决于输入`a`的值。\n"
   ]
  },
  {
   "cell_type": "code",
   "execution_count": 10,
   "id": "e4eb430b",
   "metadata": {
    "origin_pos": 47,
    "tab": [
     "pytorch"
    ]
   },
   "outputs": [],
   "source": [
    "def f(a):\n",
    "    b = a * 2\n",
    "    while b.norm() < 1000:\n",
    "        b = b * 2\n",
    "    if b.sum() > 0:\n",
    "        c = b\n",
    "    else:\n",
    "        c = 100 * b\n",
    "    return c"
   ]
  },
  {
   "cell_type": "markdown",
   "id": "b7ae43cf",
   "metadata": {
    "origin_pos": 50
   },
   "source": [
    "让我们计算梯度。\n"
   ]
  },
  {
   "cell_type": "code",
   "execution_count": 11,
   "id": "4251a67a",
   "metadata": {
    "origin_pos": 52,
    "tab": [
     "pytorch"
    ]
   },
   "outputs": [],
   "source": [
    "a = torch.randn(size=(), requires_grad=True)\n",
    "d = f(a)\n",
    "d.backward()"
   ]
  },
  {
   "cell_type": "markdown",
   "id": "6b607640",
   "metadata": {
    "origin_pos": 55
   },
   "source": [
    "我们现在可以分析上面定义的`f`函数。\n",
    "对于任何`a`，存在某个常量标量`k`，使得`f(a)=k*a`，其中`k`的值取决于输入`a`，因此可以用`d/a`验证梯度是否正确。\n"
   ]
  },
  {
   "cell_type": "code",
   "execution_count": 12,
   "id": "cd3e9d01",
   "metadata": {
    "origin_pos": 57,
    "tab": [
     "pytorch"
    ]
   },
   "outputs": [
    {
     "data": {
      "text/plain": [
       "tensor(True)"
      ]
     },
     "execution_count": 12,
     "metadata": {},
     "output_type": "execute_result"
    }
   ],
   "source": [
    "a.grad == d / a"
   ]
  },
  {
   "cell_type": "markdown",
   "id": "74238334",
   "metadata": {
    "origin_pos": 60
   },
   "source": [
    "## 小结\n",
    "\n",
    "深度学习框架可以自动计算导数：我们首先将**梯度附加**到想要对其计算偏导数的**变量**上，然后**记录目标值的计算**，执行它的**反向传播**函数，并访问**得到的梯度**。\n",
    "\n",
    "## 练习\n",
    "\n",
    "1. 为什么计算二阶导数比一阶导数的开销要更大？\n",
    "2. 在运行反向传播函数之后，立即再次运行它，看看会发生什么。\n",
    "- `RuntimeError: Trying to backward through the graph a second time (or directly access saved tensors after they have already been freed). Saved intermediate values of the graph are freed when you call .backward() or autograd.grad(). Specify retain_graph=True if you need to backward through the graph a second time or if you need to access saved tensors after calling backward.`\n"
   ]
  },
  {
   "cell_type": "markdown",
   "id": "04cc85bb-e9a1-4e95-b0da-af8e038f20a4",
   "metadata": {},
   "source": [
    "3. 在控制流的例子中，我们计算`d`关于`a`的导数，如果将变量`a`更改为随机向量或矩阵，会发生什么？"
   ]
  },
  {
   "cell_type": "code",
   "execution_count": 13,
   "id": "c2dfaf15-65b5-4423-a6d6-aeb8795bb149",
   "metadata": {},
   "outputs": [
    {
     "name": "stdout",
     "output_type": "stream",
     "text": [
      "tensor([[1024., 1024.]])\n",
      "tensor([[True, True]])\n"
     ]
    }
   ],
   "source": [
    "a = torch.randn(size=(1,2), requires_grad=True)\n",
    "d = f(a)\n",
    "d.sum().backward()\n",
    "print(a.grad)\n",
    "print(a.grad == d / a)"
   ]
  },
  {
   "cell_type": "markdown",
   "id": "99fd12e2-8db2-4408-aa15-ca9af4a9aa49",
   "metadata": {},
   "source": [
    "4. 重新设计一个求控制流梯度的例子，运行并分析结果。"
   ]
  },
  {
   "cell_type": "code",
   "execution_count": 14,
   "id": "93fe1c6f-54f0-46a4-a4be-0eb69d7852e7",
   "metadata": {},
   "outputs": [
    {
     "name": "stdout",
     "output_type": "stream",
     "text": [
      "tensor(True)\n"
     ]
    }
   ],
   "source": [
    "import math\n",
    "def h(x):\n",
    "    for i in range(3):\n",
    "        x = torch.exp(x)\n",
    "    return x\n",
    "\n",
    "i = torch.randn(size=(), requires_grad=True)\n",
    "j = h(i)\n",
    "j.backward()\n",
    "print(i.grad==torch.exp(torch.exp(torch.exp(i)))*torch.exp(torch.exp(i))*torch.exp(i))"
   ]
  },
  {
   "cell_type": "markdown",
   "id": "b955d6dc-a575-4db5-a91a-aac1b31259bd",
   "metadata": {},
   "source": [
    "\n",
    "5. 使$f(x)=\\sin(x)$，绘制$f(x)$和$\\frac{df(x)}{dx}$的图像，其中后者不使用$f'(x)=\\cos(x)$。"
   ]
  },
  {
   "cell_type": "code",
   "execution_count": 17,
   "id": "fa9cc74b-04c2-4e16-bc5d-3f37b7a375b5",
   "metadata": {},
   "outputs": [
    {
     "data": {
      "image/svg+xml": [
       "<?xml version=\"1.0\" encoding=\"utf-8\" standalone=\"no\"?>\n",
       "<!DOCTYPE svg PUBLIC \"-//W3C//DTD SVG 1.1//EN\"\n",
       "  \"http://www.w3.org/Graphics/SVG/1.1/DTD/svg11.dtd\">\n",
       "<svg xmlns:xlink=\"http://www.w3.org/1999/xlink\" width=\"254.660937pt\" height=\"183.35625pt\" viewBox=\"0 0 254.660937 183.35625\" xmlns=\"http://www.w3.org/2000/svg\" version=\"1.1\">\n",
       " <metadata>\n",
       "  <rdf:RDF xmlns:dc=\"http://purl.org/dc/elements/1.1/\" xmlns:cc=\"http://creativecommons.org/ns#\" xmlns:rdf=\"http://www.w3.org/1999/02/22-rdf-syntax-ns#\">\n",
       "   <cc:Work>\n",
       "    <dc:type rdf:resource=\"http://purl.org/dc/dcmitype/StillImage\"/>\n",
       "    <dc:date>2025-08-04T11:50:48.647761</dc:date>\n",
       "    <dc:format>image/svg+xml</dc:format>\n",
       "    <dc:creator>\n",
       "     <cc:Agent>\n",
       "      <dc:title>Matplotlib v3.7.2, https://matplotlib.org/</dc:title>\n",
       "     </cc:Agent>\n",
       "    </dc:creator>\n",
       "   </cc:Work>\n",
       "  </rdf:RDF>\n",
       " </metadata>\n",
       " <defs>\n",
       "  <style type=\"text/css\">*{stroke-linejoin: round; stroke-linecap: butt}</style>\n",
       " </defs>\n",
       " <g id=\"figure_1\">\n",
       "  <g id=\"patch_1\">\n",
       "   <path d=\"M 0 183.35625 \n",
       "L 254.660937 183.35625 \n",
       "L 254.660937 0 \n",
       "L 0 0 \n",
       "z\n",
       "\" style=\"fill: #ffffff\"/>\n",
       "  </g>\n",
       "  <g id=\"axes_1\">\n",
       "   <g id=\"patch_2\">\n",
       "    <path d=\"M 52.160938 145.8 \n",
       "L 247.460938 145.8 \n",
       "L 247.460938 7.2 \n",
       "L 52.160938 7.2 \n",
       "z\n",
       "\" style=\"fill: #ffffff\"/>\n",
       "   </g>\n",
       "   <g id=\"matplotlib.axis_1\">\n",
       "    <g id=\"xtick_1\">\n",
       "     <g id=\"line2d_1\">\n",
       "      <path d=\"M 61.03821 145.8 \n",
       "L 61.03821 7.2 \n",
       "\" clip-path=\"url(#p57cd4eb892)\" style=\"fill: none; stroke: #b0b0b0; stroke-width: 0.8; stroke-linecap: square\"/>\n",
       "     </g>\n",
       "     <g id=\"line2d_2\">\n",
       "      <defs>\n",
       "       <path id=\"m57a56a47a3\" d=\"M 0 0 \n",
       "L 0 3.5 \n",
       "\" style=\"stroke: #000000; stroke-width: 0.8\"/>\n",
       "      </defs>\n",
       "      <g>\n",
       "       <use xlink:href=\"#m57a56a47a3\" x=\"61.03821\" y=\"145.8\" style=\"stroke: #000000; stroke-width: 0.8\"/>\n",
       "      </g>\n",
       "     </g>\n",
       "     <g id=\"text_1\">\n",
       "      <!-- 0 -->\n",
       "      <g transform=\"translate(57.85696 160.398438) scale(0.1 -0.1)\">\n",
       "       <defs>\n",
       "        <path id=\"DejaVuSans-30\" d=\"M 2034 4250 \n",
       "Q 1547 4250 1301 3770 \n",
       "Q 1056 3291 1056 2328 \n",
       "Q 1056 1369 1301 889 \n",
       "Q 1547 409 2034 409 \n",
       "Q 2525 409 2770 889 \n",
       "Q 3016 1369 3016 2328 \n",
       "Q 3016 3291 2770 3770 \n",
       "Q 2525 4250 2034 4250 \n",
       "z\n",
       "M 2034 4750 \n",
       "Q 2819 4750 3233 4129 \n",
       "Q 3647 3509 3647 2328 \n",
       "Q 3647 1150 3233 529 \n",
       "Q 2819 -91 2034 -91 \n",
       "Q 1250 -91 836 529 \n",
       "Q 422 1150 422 2328 \n",
       "Q 422 3509 836 4129 \n",
       "Q 1250 4750 2034 4750 \n",
       "z\n",
       "\" transform=\"scale(0.015625)\"/>\n",
       "       </defs>\n",
       "       <use xlink:href=\"#DejaVuSans-30\"/>\n",
       "      </g>\n",
       "     </g>\n",
       "    </g>\n",
       "    <g id=\"xtick_2\">\n",
       "     <g id=\"line2d_3\">\n",
       "      <path d=\"M 120.417962 145.8 \n",
       "L 120.417962 7.2 \n",
       "\" clip-path=\"url(#p57cd4eb892)\" style=\"fill: none; stroke: #b0b0b0; stroke-width: 0.8; stroke-linecap: square\"/>\n",
       "     </g>\n",
       "     <g id=\"line2d_4\">\n",
       "      <g>\n",
       "       <use xlink:href=\"#m57a56a47a3\" x=\"120.417962\" y=\"145.8\" style=\"stroke: #000000; stroke-width: 0.8\"/>\n",
       "      </g>\n",
       "     </g>\n",
       "     <g id=\"text_2\">\n",
       "      <!-- 10 -->\n",
       "      <g transform=\"translate(114.055462 160.398438) scale(0.1 -0.1)\">\n",
       "       <defs>\n",
       "        <path id=\"DejaVuSans-31\" d=\"M 794 531 \n",
       "L 1825 531 \n",
       "L 1825 4091 \n",
       "L 703 3866 \n",
       "L 703 4441 \n",
       "L 1819 4666 \n",
       "L 2450 4666 \n",
       "L 2450 531 \n",
       "L 3481 531 \n",
       "L 3481 0 \n",
       "L 794 0 \n",
       "L 794 531 \n",
       "z\n",
       "\" transform=\"scale(0.015625)\"/>\n",
       "       </defs>\n",
       "       <use xlink:href=\"#DejaVuSans-31\"/>\n",
       "       <use xlink:href=\"#DejaVuSans-30\" x=\"63.623047\"/>\n",
       "      </g>\n",
       "     </g>\n",
       "    </g>\n",
       "    <g id=\"xtick_3\">\n",
       "     <g id=\"line2d_5\">\n",
       "      <path d=\"M 179.797713 145.8 \n",
       "L 179.797713 7.2 \n",
       "\" clip-path=\"url(#p57cd4eb892)\" style=\"fill: none; stroke: #b0b0b0; stroke-width: 0.8; stroke-linecap: square\"/>\n",
       "     </g>\n",
       "     <g id=\"line2d_6\">\n",
       "      <g>\n",
       "       <use xlink:href=\"#m57a56a47a3\" x=\"179.797713\" y=\"145.8\" style=\"stroke: #000000; stroke-width: 0.8\"/>\n",
       "      </g>\n",
       "     </g>\n",
       "     <g id=\"text_3\">\n",
       "      <!-- 20 -->\n",
       "      <g transform=\"translate(173.435213 160.398438) scale(0.1 -0.1)\">\n",
       "       <defs>\n",
       "        <path id=\"DejaVuSans-32\" d=\"M 1228 531 \n",
       "L 3431 531 \n",
       "L 3431 0 \n",
       "L 469 0 \n",
       "L 469 531 \n",
       "Q 828 903 1448 1529 \n",
       "Q 2069 2156 2228 2338 \n",
       "Q 2531 2678 2651 2914 \n",
       "Q 2772 3150 2772 3378 \n",
       "Q 2772 3750 2511 3984 \n",
       "Q 2250 4219 1831 4219 \n",
       "Q 1534 4219 1204 4116 \n",
       "Q 875 4013 500 3803 \n",
       "L 500 4441 \n",
       "Q 881 4594 1212 4672 \n",
       "Q 1544 4750 1819 4750 \n",
       "Q 2544 4750 2975 4387 \n",
       "Q 3406 4025 3406 3419 \n",
       "Q 3406 3131 3298 2873 \n",
       "Q 3191 2616 2906 2266 \n",
       "Q 2828 2175 2409 1742 \n",
       "Q 1991 1309 1228 531 \n",
       "z\n",
       "\" transform=\"scale(0.015625)\"/>\n",
       "       </defs>\n",
       "       <use xlink:href=\"#DejaVuSans-32\"/>\n",
       "       <use xlink:href=\"#DejaVuSans-30\" x=\"63.623047\"/>\n",
       "      </g>\n",
       "     </g>\n",
       "    </g>\n",
       "    <g id=\"xtick_4\">\n",
       "     <g id=\"line2d_7\">\n",
       "      <path d=\"M 239.177465 145.8 \n",
       "L 239.177465 7.2 \n",
       "\" clip-path=\"url(#p57cd4eb892)\" style=\"fill: none; stroke: #b0b0b0; stroke-width: 0.8; stroke-linecap: square\"/>\n",
       "     </g>\n",
       "     <g id=\"line2d_8\">\n",
       "      <g>\n",
       "       <use xlink:href=\"#m57a56a47a3\" x=\"239.177465\" y=\"145.8\" style=\"stroke: #000000; stroke-width: 0.8\"/>\n",
       "      </g>\n",
       "     </g>\n",
       "     <g id=\"text_4\">\n",
       "      <!-- 30 -->\n",
       "      <g transform=\"translate(232.814965 160.398438) scale(0.1 -0.1)\">\n",
       "       <defs>\n",
       "        <path id=\"DejaVuSans-33\" d=\"M 2597 2516 \n",
       "Q 3050 2419 3304 2112 \n",
       "Q 3559 1806 3559 1356 \n",
       "Q 3559 666 3084 287 \n",
       "Q 2609 -91 1734 -91 \n",
       "Q 1441 -91 1130 -33 \n",
       "Q 819 25 488 141 \n",
       "L 488 750 \n",
       "Q 750 597 1062 519 \n",
       "Q 1375 441 1716 441 \n",
       "Q 2309 441 2620 675 \n",
       "Q 2931 909 2931 1356 \n",
       "Q 2931 1769 2642 2001 \n",
       "Q 2353 2234 1838 2234 \n",
       "L 1294 2234 \n",
       "L 1294 2753 \n",
       "L 1863 2753 \n",
       "Q 2328 2753 2575 2939 \n",
       "Q 2822 3125 2822 3475 \n",
       "Q 2822 3834 2567 4026 \n",
       "Q 2313 4219 1838 4219 \n",
       "Q 1578 4219 1281 4162 \n",
       "Q 984 4106 628 3988 \n",
       "L 628 4550 \n",
       "Q 988 4650 1302 4700 \n",
       "Q 1616 4750 1894 4750 \n",
       "Q 2613 4750 3031 4423 \n",
       "Q 3450 4097 3450 3541 \n",
       "Q 3450 3153 3228 2886 \n",
       "Q 3006 2619 2597 2516 \n",
       "z\n",
       "\" transform=\"scale(0.015625)\"/>\n",
       "       </defs>\n",
       "       <use xlink:href=\"#DejaVuSans-33\"/>\n",
       "       <use xlink:href=\"#DejaVuSans-30\" x=\"63.623047\"/>\n",
       "      </g>\n",
       "     </g>\n",
       "    </g>\n",
       "    <g id=\"text_5\">\n",
       "     <!-- x -->\n",
       "     <g transform=\"translate(146.851563 174.076563) scale(0.1 -0.1)\">\n",
       "      <defs>\n",
       "       <path id=\"DejaVuSans-78\" d=\"M 3513 3500 \n",
       "L 2247 1797 \n",
       "L 3578 0 \n",
       "L 2900 0 \n",
       "L 1881 1375 \n",
       "L 863 0 \n",
       "L 184 0 \n",
       "L 1544 1831 \n",
       "L 300 3500 \n",
       "L 978 3500 \n",
       "L 1906 2253 \n",
       "L 2834 3500 \n",
       "L 3513 3500 \n",
       "z\n",
       "\" transform=\"scale(0.015625)\"/>\n",
       "      </defs>\n",
       "      <use xlink:href=\"#DejaVuSans-78\"/>\n",
       "     </g>\n",
       "    </g>\n",
       "   </g>\n",
       "   <g id=\"matplotlib.axis_2\">\n",
       "    <g id=\"ytick_1\">\n",
       "     <g id=\"line2d_9\">\n",
       "      <path d=\"M 52.160938 139.500616 \n",
       "L 247.460938 139.500616 \n",
       "\" clip-path=\"url(#p57cd4eb892)\" style=\"fill: none; stroke: #b0b0b0; stroke-width: 0.8; stroke-linecap: square\"/>\n",
       "     </g>\n",
       "     <g id=\"line2d_10\">\n",
       "      <defs>\n",
       "       <path id=\"mfa24a16911\" d=\"M 0 0 \n",
       "L -3.5 0 \n",
       "\" style=\"stroke: #000000; stroke-width: 0.8\"/>\n",
       "      </defs>\n",
       "      <g>\n",
       "       <use xlink:href=\"#mfa24a16911\" x=\"52.160938\" y=\"139.500616\" style=\"stroke: #000000; stroke-width: 0.8\"/>\n",
       "      </g>\n",
       "     </g>\n",
       "     <g id=\"text_6\">\n",
       "      <!-- −1.0 -->\n",
       "      <g transform=\"translate(20.878125 143.299835) scale(0.1 -0.1)\">\n",
       "       <defs>\n",
       "        <path id=\"DejaVuSans-2212\" d=\"M 678 2272 \n",
       "L 4684 2272 \n",
       "L 4684 1741 \n",
       "L 678 1741 \n",
       "L 678 2272 \n",
       "z\n",
       "\" transform=\"scale(0.015625)\"/>\n",
       "        <path id=\"DejaVuSans-2e\" d=\"M 684 794 \n",
       "L 1344 794 \n",
       "L 1344 0 \n",
       "L 684 0 \n",
       "L 684 794 \n",
       "z\n",
       "\" transform=\"scale(0.015625)\"/>\n",
       "       </defs>\n",
       "       <use xlink:href=\"#DejaVuSans-2212\"/>\n",
       "       <use xlink:href=\"#DejaVuSans-31\" x=\"83.789062\"/>\n",
       "       <use xlink:href=\"#DejaVuSans-2e\" x=\"147.412109\"/>\n",
       "       <use xlink:href=\"#DejaVuSans-30\" x=\"179.199219\"/>\n",
       "      </g>\n",
       "     </g>\n",
       "    </g>\n",
       "    <g id=\"ytick_2\">\n",
       "     <g id=\"line2d_11\">\n",
       "      <path d=\"M 52.160938 108.000462 \n",
       "L 247.460938 108.000462 \n",
       "\" clip-path=\"url(#p57cd4eb892)\" style=\"fill: none; stroke: #b0b0b0; stroke-width: 0.8; stroke-linecap: square\"/>\n",
       "     </g>\n",
       "     <g id=\"line2d_12\">\n",
       "      <g>\n",
       "       <use xlink:href=\"#mfa24a16911\" x=\"52.160938\" y=\"108.000462\" style=\"stroke: #000000; stroke-width: 0.8\"/>\n",
       "      </g>\n",
       "     </g>\n",
       "     <g id=\"text_7\">\n",
       "      <!-- −0.5 -->\n",
       "      <g transform=\"translate(20.878125 111.799681) scale(0.1 -0.1)\">\n",
       "       <defs>\n",
       "        <path id=\"DejaVuSans-35\" d=\"M 691 4666 \n",
       "L 3169 4666 \n",
       "L 3169 4134 \n",
       "L 1269 4134 \n",
       "L 1269 2991 \n",
       "Q 1406 3038 1543 3061 \n",
       "Q 1681 3084 1819 3084 \n",
       "Q 2600 3084 3056 2656 \n",
       "Q 3513 2228 3513 1497 \n",
       "Q 3513 744 3044 326 \n",
       "Q 2575 -91 1722 -91 \n",
       "Q 1428 -91 1123 -41 \n",
       "Q 819 9 494 109 \n",
       "L 494 744 \n",
       "Q 775 591 1075 516 \n",
       "Q 1375 441 1709 441 \n",
       "Q 2250 441 2565 725 \n",
       "Q 2881 1009 2881 1497 \n",
       "Q 2881 1984 2565 2268 \n",
       "Q 2250 2553 1709 2553 \n",
       "Q 1456 2553 1204 2497 \n",
       "Q 953 2441 691 2322 \n",
       "L 691 4666 \n",
       "z\n",
       "\" transform=\"scale(0.015625)\"/>\n",
       "       </defs>\n",
       "       <use xlink:href=\"#DejaVuSans-2212\"/>\n",
       "       <use xlink:href=\"#DejaVuSans-30\" x=\"83.789062\"/>\n",
       "       <use xlink:href=\"#DejaVuSans-2e\" x=\"147.412109\"/>\n",
       "       <use xlink:href=\"#DejaVuSans-35\" x=\"179.199219\"/>\n",
       "      </g>\n",
       "     </g>\n",
       "    </g>\n",
       "    <g id=\"ytick_3\">\n",
       "     <g id=\"line2d_13\">\n",
       "      <path d=\"M 52.160938 76.500308 \n",
       "L 247.460938 76.500308 \n",
       "\" clip-path=\"url(#p57cd4eb892)\" style=\"fill: none; stroke: #b0b0b0; stroke-width: 0.8; stroke-linecap: square\"/>\n",
       "     </g>\n",
       "     <g id=\"line2d_14\">\n",
       "      <g>\n",
       "       <use xlink:href=\"#mfa24a16911\" x=\"52.160938\" y=\"76.500308\" style=\"stroke: #000000; stroke-width: 0.8\"/>\n",
       "      </g>\n",
       "     </g>\n",
       "     <g id=\"text_8\">\n",
       "      <!-- 0.0 -->\n",
       "      <g transform=\"translate(29.257812 80.299527) scale(0.1 -0.1)\">\n",
       "       <use xlink:href=\"#DejaVuSans-30\"/>\n",
       "       <use xlink:href=\"#DejaVuSans-2e\" x=\"63.623047\"/>\n",
       "       <use xlink:href=\"#DejaVuSans-30\" x=\"95.410156\"/>\n",
       "      </g>\n",
       "     </g>\n",
       "    </g>\n",
       "    <g id=\"ytick_4\">\n",
       "     <g id=\"line2d_15\">\n",
       "      <path d=\"M 52.160938 45.000154 \n",
       "L 247.460938 45.000154 \n",
       "\" clip-path=\"url(#p57cd4eb892)\" style=\"fill: none; stroke: #b0b0b0; stroke-width: 0.8; stroke-linecap: square\"/>\n",
       "     </g>\n",
       "     <g id=\"line2d_16\">\n",
       "      <g>\n",
       "       <use xlink:href=\"#mfa24a16911\" x=\"52.160938\" y=\"45.000154\" style=\"stroke: #000000; stroke-width: 0.8\"/>\n",
       "      </g>\n",
       "     </g>\n",
       "     <g id=\"text_9\">\n",
       "      <!-- 0.5 -->\n",
       "      <g transform=\"translate(29.257812 48.799373) scale(0.1 -0.1)\">\n",
       "       <use xlink:href=\"#DejaVuSans-30\"/>\n",
       "       <use xlink:href=\"#DejaVuSans-2e\" x=\"63.623047\"/>\n",
       "       <use xlink:href=\"#DejaVuSans-35\" x=\"95.410156\"/>\n",
       "      </g>\n",
       "     </g>\n",
       "    </g>\n",
       "    <g id=\"ytick_5\">\n",
       "     <g id=\"line2d_17\">\n",
       "      <path d=\"M 52.160938 13.5 \n",
       "L 247.460938 13.5 \n",
       "\" clip-path=\"url(#p57cd4eb892)\" style=\"fill: none; stroke: #b0b0b0; stroke-width: 0.8; stroke-linecap: square\"/>\n",
       "     </g>\n",
       "     <g id=\"line2d_18\">\n",
       "      <g>\n",
       "       <use xlink:href=\"#mfa24a16911\" x=\"52.160938\" y=\"13.5\" style=\"stroke: #000000; stroke-width: 0.8\"/>\n",
       "      </g>\n",
       "     </g>\n",
       "     <g id=\"text_10\">\n",
       "      <!-- 1.0 -->\n",
       "      <g transform=\"translate(29.257812 17.299219) scale(0.1 -0.1)\">\n",
       "       <use xlink:href=\"#DejaVuSans-31\"/>\n",
       "       <use xlink:href=\"#DejaVuSans-2e\" x=\"63.623047\"/>\n",
       "       <use xlink:href=\"#DejaVuSans-30\" x=\"95.410156\"/>\n",
       "      </g>\n",
       "     </g>\n",
       "    </g>\n",
       "    <g id=\"text_11\">\n",
       "     <!-- y -->\n",
       "     <g transform=\"translate(14.798438 79.459375) rotate(-90) scale(0.1 -0.1)\">\n",
       "      <defs>\n",
       "       <path id=\"DejaVuSans-79\" d=\"M 2059 -325 \n",
       "Q 1816 -950 1584 -1140 \n",
       "Q 1353 -1331 966 -1331 \n",
       "L 506 -1331 \n",
       "L 506 -850 \n",
       "L 844 -850 \n",
       "Q 1081 -850 1212 -737 \n",
       "Q 1344 -625 1503 -206 \n",
       "L 1606 56 \n",
       "L 191 3500 \n",
       "L 800 3500 \n",
       "L 1894 763 \n",
       "L 2988 3500 \n",
       "L 3597 3500 \n",
       "L 2059 -325 \n",
       "z\n",
       "\" transform=\"scale(0.015625)\"/>\n",
       "      </defs>\n",
       "      <use xlink:href=\"#DejaVuSans-79\"/>\n",
       "     </g>\n",
       "    </g>\n",
       "   </g>\n",
       "   <g id=\"line2d_19\">\n",
       "    <path d=\"M 61.03821 76.500308 \n",
       "L 63.4134 51.966831 \n",
       "L 65.194793 35.914396 \n",
       "L 66.382388 27.150471 \n",
       "L 67.569983 20.353967 \n",
       "L 68.163781 17.781559 \n",
       "L 68.757578 15.795845 \n",
       "L 69.351375 14.416671 \n",
       "L 69.945173 13.657816 \n",
       "L 70.538971 13.526864 \n",
       "L 71.132768 14.025118 \n",
       "L 71.726566 15.147608 \n",
       "L 72.320363 16.883111 \n",
       "L 72.914161 19.214291 \n",
       "L 74.101756 25.564789 \n",
       "L 75.289351 33.945926 \n",
       "L 76.476946 44.02357 \n",
       "L 78.258339 61.427532 \n",
       "L 83.008719 109.88015 \n",
       "L 84.196314 119.829794 \n",
       "L 85.383908 128.052015 \n",
       "L 86.571504 134.219048 \n",
       "L 87.165301 136.451533 \n",
       "L 87.759098 138.085007 \n",
       "L 88.352895 139.103145 \n",
       "L 88.946692 139.495779 \n",
       "L 89.540492 139.258982 \n",
       "L 90.134289 138.395122 \n",
       "L 90.728086 136.912834 \n",
       "L 91.321886 134.826911 \n",
       "L 91.915683 132.158214 \n",
       "L 93.103277 125.184706 \n",
       "L 94.29087 116.270305 \n",
       "L 95.478464 105.770405 \n",
       "L 97.259858 87.976608 \n",
       "L 101.416442 45.371005 \n",
       "L 102.604036 35.10995 \n",
       "L 103.79163 26.498996 \n",
       "L 104.979224 19.881432 \n",
       "L 105.573024 17.406021 \n",
       "L 106.166821 15.521072 \n",
       "L 106.760618 14.245408 \n",
       "L 107.354415 13.591771 \n",
       "L 107.948212 13.566695 \n",
       "L 108.542011 14.170434 \n",
       "L 109.135811 15.396958 \n",
       "L 109.729605 17.233988 \n",
       "L 110.323405 19.663211 \n",
       "L 111.510999 26.195373 \n",
       "L 112.698593 34.733035 \n",
       "L 113.886192 44.93587 \n",
       "L 115.66758 62.458163 \n",
       "L 119.824168 105.325242 \n",
       "L 121.011761 115.879969 \n",
       "L 122.199355 124.864759 \n",
       "L 123.386949 131.921413 \n",
       "L 123.980743 134.63543 \n",
       "L 124.574543 136.768604 \n",
       "L 125.168337 138.299585 \n",
       "L 125.762137 139.213095 \n",
       "L 126.355937 139.5 \n",
       "L 126.949731 139.157432 \n",
       "L 127.543531 138.188809 \n",
       "L 128.13733 136.603811 \n",
       "L 128.731125 134.418298 \n",
       "L 129.324924 131.654064 \n",
       "L 130.512518 124.505515 \n",
       "L 131.700112 115.443156 \n",
       "L 133.481506 99.068874 \n",
       "L 136.450493 68.10666 \n",
       "L 138.825687 44.454457 \n",
       "L 140.013281 34.317197 \n",
       "L 141.200875 25.861641 \n",
       "L 142.388474 19.424859 \n",
       "L 142.982268 17.047187 \n",
       "L 143.576068 15.263528 \n",
       "L 144.169862 14.091738 \n",
       "L 144.763662 13.543507 \n",
       "L 145.357462 13.624324 \n",
       "L 145.951256 14.333372 \n",
       "L 146.54505 15.663564 \n",
       "L 147.13885 17.601633 \n",
       "L 147.732644 20.128173 \n",
       "L 148.920238 26.840156 \n",
       "L 150.107837 35.531972 \n",
       "L 151.295431 45.857031 \n",
       "L 153.076825 63.492793 \n",
       "L 157.233412 106.263081 \n",
       "L 158.421 116.701208 \n",
       "L 159.6086 125.536744 \n",
       "L 160.796188 132.417282 \n",
       "L 161.389988 135.035398 \n",
       "L 161.983788 137.068645 \n",
       "L 162.577576 138.496691 \n",
       "L 163.171376 139.305313 \n",
       "L 163.765176 139.486406 \n",
       "L 164.358975 139.038159 \n",
       "L 164.952775 137.965046 \n",
       "L 165.546575 136.277796 \n",
       "L 166.140375 133.993265 \n",
       "L 167.327963 127.729469 \n",
       "L 168.515563 119.423269 \n",
       "L 169.703162 109.40585 \n",
       "L 171.48455 92.059701 \n",
       "L 176.234937 43.546922 \n",
       "L 177.422525 33.536371 \n",
       "L 178.610125 25.238571 \n",
       "L 179.797713 18.984475 \n",
       "L 180.391513 16.70516 \n",
       "L 180.985313 15.023306 \n",
       "L 181.579101 13.955724 \n",
       "L 182.172901 13.513049 \n",
       "L 182.766701 13.699723 \n",
       "L 183.3605 14.513887 \n",
       "L 183.9543 15.947405 \n",
       "L 184.548089 17.985904 \n",
       "L 185.141888 20.609101 \n",
       "L 186.329477 27.498975 \n",
       "L 187.517076 36.342453 \n",
       "L 188.704676 46.786905 \n",
       "L 190.486075 64.531159 \n",
       "L 194.642651 107.192452 \n",
       "L 195.830239 117.51108 \n",
       "L 197.017839 126.194827 \n",
       "L 198.205438 132.8974 \n",
       "L 198.799238 135.418836 \n",
       "L 199.393038 137.351577 \n",
       "L 199.986838 138.676309 \n",
       "L 200.580626 139.379784 \n",
       "L 201.174426 139.455003 \n",
       "L 201.768226 138.901195 \n",
       "L 202.362025 137.723893 \n",
       "L 202.955825 135.93486 \n",
       "L 203.549614 133.552024 \n",
       "L 204.737213 127.105637 \n",
       "L 205.924801 118.641849 \n",
       "L 207.112401 108.497928 \n",
       "L 208.893789 91.031082 \n",
       "L 213.644176 42.648805 \n",
       "L 214.831764 32.767737 \n",
       "L 216.019364 24.630063 \n",
       "L 217.206963 18.560305 \n",
       "L 217.800752 16.380061 \n",
       "L 218.394552 14.800474 \n",
       "L 218.988351 13.837378 \n",
       "L 219.58214 13.500394 \n",
       "L 220.17594 13.792876 \n",
       "L 220.769739 14.711917 \n",
       "L 221.363539 16.248328 \n",
       "L 221.957339 18.386766 \n",
       "L 222.551139 21.105857 \n",
       "L 223.738738 28.171804 \n",
       "L 224.926326 37.164375 \n",
       "L 226.113926 47.725234 \n",
       "L 227.895314 65.572792 \n",
       "L 231.458101 102.514915 \n",
       "L 233.239489 118.309447 \n",
       "L 234.427089 126.838937 \n",
       "L 235.614677 133.361516 \n",
       "L 236.208477 135.785576 \n",
       "L 236.802277 137.617274 \n",
       "L 237.396077 138.838304 \n",
       "L 237.989865 139.436467 \n",
       "L 238.583665 139.405803 \n",
       "L 238.583665 139.405803 \n",
       "\" clip-path=\"url(#p57cd4eb892)\" style=\"fill: none; stroke: #1f77b4; stroke-width: 1.5; stroke-linecap: square\"/>\n",
       "   </g>\n",
       "   <g id=\"line2d_20\">\n",
       "    <path d=\"M 61.03821 13.5 \n",
       "L 61.632008 13.814738 \n",
       "L 62.225805 14.75581 \n",
       "L 62.819603 16.313814 \n",
       "L 63.4134 18.473183 \n",
       "L 64.007198 21.212337 \n",
       "L 65.194793 28.315013 \n",
       "L 66.382388 37.338691 \n",
       "L 67.569983 47.923613 \n",
       "L 69.351375 65.792325 \n",
       "L 72.914161 102.717687 \n",
       "L 74.695553 118.4759 \n",
       "L 75.883148 126.972601 \n",
       "L 77.070743 133.457133 \n",
       "L 77.664542 135.86061 \n",
       "L 78.258339 137.670972 \n",
       "L 78.852136 138.87014 \n",
       "L 79.445934 139.446129 \n",
       "L 80.039731 139.393186 \n",
       "L 80.633528 138.71184 \n",
       "L 81.227326 137.408891 \n",
       "L 81.821123 135.497367 \n",
       "L 82.414922 132.996362 \n",
       "L 83.602515 126.331521 \n",
       "L 84.790111 117.680056 \n",
       "L 85.977705 107.386901 \n",
       "L 87.759098 89.780509 \n",
       "L 91.915683 46.983598 \n",
       "L 93.103277 36.514456 \n",
       "L 94.29087 27.639424 \n",
       "L 95.478464 20.712314 \n",
       "L 96.072264 18.068877 \n",
       "L 96.666061 16.009285 \n",
       "L 97.259858 14.554093 \n",
       "L 97.853655 13.717849 \n",
       "L 98.447452 13.508907 \n",
       "L 99.041252 13.929352 \n",
       "L 99.635049 14.974985 \n",
       "L 100.228846 16.63536 \n",
       "L 100.822645 18.893894 \n",
       "L 101.416442 21.728004 \n",
       "L 102.604036 29.004234 \n",
       "L 103.79163 38.173978 \n",
       "L 105.573024 54.662177 \n",
       "L 109.135811 91.843688 \n",
       "L 110.917199 109.215631 \n",
       "L 112.104799 119.259899 \n",
       "L 113.292393 127.599422 \n",
       "L 114.479987 133.901794 \n",
       "L 115.073786 136.207068 \n",
       "L 115.66758 137.915752 \n",
       "L 116.26138 139.01081 \n",
       "L 116.85518 139.481277 \n",
       "L 117.448974 139.322462 \n",
       "L 118.042774 138.535943 \n",
       "L 118.636574 137.129579 \n",
       "L 119.230368 135.117444 \n",
       "L 119.824168 132.519609 \n",
       "L 121.011761 125.676329 \n",
       "L 122.199355 116.872561 \n",
       "L 123.386949 106.459282 \n",
       "L 125.168337 88.743199 \n",
       "L 129.324924 46.051959 \n",
       "L 130.512518 35.701549 \n",
       "L 131.700112 26.977653 \n",
       "L 132.887712 20.228036 \n",
       "L 133.481506 17.681106 \n",
       "L 134.075306 15.721854 \n",
       "L 134.6691 14.369894 \n",
       "L 135.2629 13.63871 \n",
       "L 135.856699 13.535621 \n",
       "L 136.450493 14.061656 \n",
       "L 137.044293 15.211561 \n",
       "L 137.638093 16.973846 \n",
       "L 138.231887 19.33088 \n",
       "L 139.419481 25.729364 \n",
       "L 140.607081 34.151965 \n",
       "L 141.794674 44.262819 \n",
       "L 143.576068 61.698432 \n",
       "L 148.326444 110.116279 \n",
       "L 149.514038 120.031751 \n",
       "L 150.701632 128.211765 \n",
       "L 151.889231 134.330234 \n",
       "L 152.483025 136.536628 \n",
       "L 153.076825 138.143177 \n",
       "L 153.670619 139.133802 \n",
       "L 154.264419 139.498618 \n",
       "L 154.858219 139.233973 \n",
       "L 155.452013 138.342521 \n",
       "L 156.045813 136.83315 \n",
       "L 156.639612 134.720949 \n",
       "L 157.233412 132.027025 \n",
       "L 158.421 125.007281 \n",
       "L 159.6086 116.05365 \n",
       "L 160.796188 105.523243 \n",
       "L 162.577576 87.702429 \n",
       "L 166.734175 45.128851 \n",
       "L 167.921763 34.900152 \n",
       "L 169.109362 26.329829 \n",
       "L 170.296951 19.75971 \n",
       "L 170.89075 17.309951 \n",
       "L 171.48455 15.451606 \n",
       "L 172.078339 14.203261 \n",
       "L 172.672138 13.577344 \n",
       "L 173.265938 13.580138 \n",
       "L 173.859738 14.211612 \n",
       "L 174.453538 15.465459 \n",
       "L 175.047338 17.329154 \n",
       "L 175.641137 19.784069 \n",
       "L 176.828726 26.363718 \n",
       "L 178.016325 34.942224 \n",
       "L 179.203925 45.177532 \n",
       "L 180.985313 62.730166 \n",
       "L 185.141888 105.572831 \n",
       "L 186.329477 116.097131 \n",
       "L 187.517076 125.04292 \n",
       "L 188.704676 132.053457 \n",
       "L 189.298476 134.742323 \n",
       "L 189.892275 136.849248 \n",
       "L 190.486075 138.353185 \n",
       "L 191.079864 139.239087 \n",
       "L 191.673663 139.498149 \n",
       "L 192.267463 139.127748 \n",
       "L 192.861263 138.131589 \n",
       "L 193.455063 136.519629 \n",
       "L 194.048851 134.308018 \n",
       "L 194.642651 131.518771 \n",
       "L 195.830239 124.324523 \n",
       "L 197.017839 115.223602 \n",
       "L 198.799238 98.808281 \n",
       "L 201.768226 67.830348 \n",
       "L 204.143413 44.214716 \n",
       "L 205.331002 34.110561 \n",
       "L 206.518601 25.696262 \n",
       "L 207.706201 19.307373 \n",
       "L 208.299989 16.955551 \n",
       "L 208.893789 15.198632 \n",
       "L 209.487589 14.054224 \n",
       "L 210.081377 13.53377 \n",
       "L 210.675177 13.642439 \n",
       "L 211.268977 14.379173 \n",
       "L 211.862777 15.7366 \n",
       "L 212.456576 17.701169 \n",
       "L 213.050376 20.25324 \n",
       "L 214.237976 27.01229 \n",
       "L 215.425564 35.744192 \n",
       "L 216.613164 46.100999 \n",
       "L 218.394552 63.765733 \n",
       "L 222.551139 106.508534 \n",
       "L 223.738738 116.915583 \n",
       "L 224.926326 125.711315 \n",
       "L 226.113926 132.545238 \n",
       "L 226.707726 135.137969 \n",
       "L 227.301514 137.144776 \n",
       "L 227.895314 138.54568 \n",
       "L 228.489114 139.326645 \n",
       "L 229.082902 139.479869 \n",
       "L 229.676702 139.003822 \n",
       "L 230.270502 137.903259 \n",
       "L 230.864302 136.189175 \n",
       "L 231.458101 133.878693 \n",
       "L 232.64569 127.566682 \n",
       "L 233.833289 119.218755 \n",
       "L 235.020877 109.167862 \n",
       "L 236.802277 91.789366 \n",
       "L 238.583665 73.045253 \n",
       "L 238.583665 73.045253 \n",
       "\" clip-path=\"url(#p57cd4eb892)\" style=\"fill: none; stroke-dasharray: 5.55,2.4; stroke-dashoffset: 0; stroke: #bf00bf; stroke-width: 1.5\"/>\n",
       "   </g>\n",
       "   <g id=\"patch_3\">\n",
       "    <path d=\"M 52.160938 145.8 \n",
       "L 52.160938 7.2 \n",
       "\" style=\"fill: none; stroke: #000000; stroke-width: 0.8; stroke-linejoin: miter; stroke-linecap: square\"/>\n",
       "   </g>\n",
       "   <g id=\"patch_4\">\n",
       "    <path d=\"M 247.460938 145.8 \n",
       "L 247.460938 7.2 \n",
       "\" style=\"fill: none; stroke: #000000; stroke-width: 0.8; stroke-linejoin: miter; stroke-linecap: square\"/>\n",
       "   </g>\n",
       "   <g id=\"patch_5\">\n",
       "    <path d=\"M 52.160938 145.8 \n",
       "L 247.460938 145.8 \n",
       "\" style=\"fill: none; stroke: #000000; stroke-width: 0.8; stroke-linejoin: miter; stroke-linecap: square\"/>\n",
       "   </g>\n",
       "   <g id=\"patch_6\">\n",
       "    <path d=\"M 52.160938 7.2 \n",
       "L 247.460938 7.2 \n",
       "\" style=\"fill: none; stroke: #000000; stroke-width: 0.8; stroke-linejoin: miter; stroke-linecap: square\"/>\n",
       "   </g>\n",
       "   <g id=\"legend_1\">\n",
       "    <g id=\"patch_7\">\n",
       "     <path d=\"M 180.557813 92.678125 \n",
       "L 240.460938 92.678125 \n",
       "Q 242.460938 92.678125 242.460938 90.678125 \n",
       "L 242.460938 62.321875 \n",
       "Q 242.460938 60.321875 240.460938 60.321875 \n",
       "L 180.557813 60.321875 \n",
       "Q 178.557813 60.321875 178.557813 62.321875 \n",
       "L 178.557813 90.678125 \n",
       "Q 178.557813 92.678125 180.557813 92.678125 \n",
       "z\n",
       "\" style=\"fill: #ffffff; opacity: 0.8; stroke: #cccccc; stroke-linejoin: miter\"/>\n",
       "    </g>\n",
       "    <g id=\"line2d_21\">\n",
       "     <path d=\"M 182.557813 68.420313 \n",
       "L 192.557813 68.420313 \n",
       "L 202.557813 68.420313 \n",
       "\" style=\"fill: none; stroke: #1f77b4; stroke-width: 1.5; stroke-linecap: square\"/>\n",
       "    </g>\n",
       "    <g id=\"text_12\">\n",
       "     <!-- y -->\n",
       "     <g transform=\"translate(210.557813 71.920313) scale(0.1 -0.1)\">\n",
       "      <use xlink:href=\"#DejaVuSans-79\"/>\n",
       "     </g>\n",
       "    </g>\n",
       "    <g id=\"line2d_22\">\n",
       "     <path d=\"M 182.557813 83.098438 \n",
       "L 192.557813 83.098438 \n",
       "L 202.557813 83.098438 \n",
       "\" style=\"fill: none; stroke-dasharray: 5.55,2.4; stroke-dashoffset: 0; stroke: #bf00bf; stroke-width: 1.5\"/>\n",
       "    </g>\n",
       "    <g id=\"text_13\">\n",
       "     <!-- dy/dx -->\n",
       "     <g transform=\"translate(210.557813 86.598438) scale(0.1 -0.1)\">\n",
       "      <defs>\n",
       "       <path id=\"DejaVuSans-64\" d=\"M 2906 2969 \n",
       "L 2906 4863 \n",
       "L 3481 4863 \n",
       "L 3481 0 \n",
       "L 2906 0 \n",
       "L 2906 525 \n",
       "Q 2725 213 2448 61 \n",
       "Q 2172 -91 1784 -91 \n",
       "Q 1150 -91 751 415 \n",
       "Q 353 922 353 1747 \n",
       "Q 353 2572 751 3078 \n",
       "Q 1150 3584 1784 3584 \n",
       "Q 2172 3584 2448 3432 \n",
       "Q 2725 3281 2906 2969 \n",
       "z\n",
       "M 947 1747 \n",
       "Q 947 1113 1208 752 \n",
       "Q 1469 391 1925 391 \n",
       "Q 2381 391 2643 752 \n",
       "Q 2906 1113 2906 1747 \n",
       "Q 2906 2381 2643 2742 \n",
       "Q 2381 3103 1925 3103 \n",
       "Q 1469 3103 1208 2742 \n",
       "Q 947 2381 947 1747 \n",
       "z\n",
       "\" transform=\"scale(0.015625)\"/>\n",
       "       <path id=\"DejaVuSans-2f\" d=\"M 1625 4666 \n",
       "L 2156 4666 \n",
       "L 531 -594 \n",
       "L 0 -594 \n",
       "L 1625 4666 \n",
       "z\n",
       "\" transform=\"scale(0.015625)\"/>\n",
       "      </defs>\n",
       "      <use xlink:href=\"#DejaVuSans-64\"/>\n",
       "      <use xlink:href=\"#DejaVuSans-79\" x=\"63.476562\"/>\n",
       "      <use xlink:href=\"#DejaVuSans-2f\" x=\"122.65625\"/>\n",
       "      <use xlink:href=\"#DejaVuSans-64\" x=\"156.347656\"/>\n",
       "      <use xlink:href=\"#DejaVuSans-78\" x=\"219.824219\"/>\n",
       "     </g>\n",
       "    </g>\n",
       "   </g>\n",
       "  </g>\n",
       " </g>\n",
       " <defs>\n",
       "  <clipPath id=\"p57cd4eb892\">\n",
       "   <rect x=\"52.160938\" y=\"7.2\" width=\"195.3\" height=\"138.6\"/>\n",
       "  </clipPath>\n",
       " </defs>\n",
       "</svg>\n"
      ],
      "text/plain": [
       "<Figure size 350x250 with 1 Axes>"
      ]
     },
     "metadata": {},
     "output_type": "display_data"
    }
   ],
   "source": [
    "from d2l import torch as d2l\n",
    "x = torch.arange(0,30,0.1,requires_grad=True)\n",
    "y1 = torch.sin(x)\n",
    "y1.sum().backward()\n",
    "y2 = x.grad\n",
    "d2l.plot(x.detach(),[y1.detach(),y2.detach()],'x','y',legend=['y','dy/dx'])"
   ]
  },
  {
   "cell_type": "markdown",
   "id": "ba845e3d",
   "metadata": {
    "origin_pos": 62,
    "tab": [
     "pytorch"
    ]
   },
   "source": [
    "[Discussions](https://discuss.d2l.ai/t/1759)\n"
   ]
  }
 ],
 "metadata": {
  "kernelspec": {
   "display_name": "Python 3 (ipykernel)",
   "language": "python",
   "name": "python3"
  },
  "language_info": {
   "codemirror_mode": {
    "name": "ipython",
    "version": 3
   },
   "file_extension": ".py",
   "mimetype": "text/x-python",
   "name": "python",
   "nbconvert_exporter": "python",
   "pygments_lexer": "ipython3",
   "version": "3.9.23"
  }
 },
 "nbformat": 4,
 "nbformat_minor": 5
}
