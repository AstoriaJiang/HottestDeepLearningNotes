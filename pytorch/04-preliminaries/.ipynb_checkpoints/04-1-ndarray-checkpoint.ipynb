{
 "cells": [
  {
   "cell_type": "markdown",
   "id": "7ce799fb-be77-4f55-af81-0b80061b7584",
   "metadata": {},
   "source": [
    "esc 退出编辑模式\n",
    "\n",
    "m 变为md模式\n",
    "\n",
    "shift/ctrl + enter 恢复md显示\n",
    "\n",
    "enter 进入编辑模式\n",
    "\n",
    "b （向下）新建一个cell\n",
    "\n",
    "d d 删除当前cell"
   ]
  },
  {
   "cell_type": "markdown",
   "id": "07577e9a-fbd2-4bd6-9f81-47df27234af7",
   "metadata": {},
   "source": [
    "# ndarray"
   ]
  },
  {
   "cell_type": "markdown",
   "id": "13345007-4889-4b58-9adf-637d6efc94ae",
   "metadata": {},
   "source": [
    "## 入门"
   ]
  },
  {
   "cell_type": "code",
   "execution_count": 9,
   "id": "c576bdce",
   "metadata": {
    "origin_pos": 5,
    "tab": [
     "pytorch"
    ]
   },
   "outputs": [],
   "source": [
    "import torch"
   ]
  },
  {
   "cell_type": "markdown",
   "id": "c6bdaab0",
   "metadata": {
    "origin_pos": 10,
    "tab": [
     "pytorch"
    ]
   },
   "source": [
    "`torch.arange(n)`\n",
    "\n",
    "创建一个从0到n-1的向量，默认创建为整数。也可指定创建类型为浮点数。"
   ]
  },
  {
   "cell_type": "code",
   "execution_count": 2,
   "id": "b977093a",
   "metadata": {
    "origin_pos": 13,
    "tab": [
     "pytorch"
    ]
   },
   "outputs": [
    {
     "data": {
      "text/plain": [
       "tensor([ 0,  1,  2,  3,  4,  5,  6,  7,  8,  9, 10, 11])"
      ]
     },
     "execution_count": 2,
     "metadata": {},
     "output_type": "execute_result"
    }
   ],
   "source": [
    "x = torch.arange(12)\n",
    "x"
   ]
  },
  {
   "cell_type": "markdown",
   "id": "1f80f754",
   "metadata": {
    "origin_pos": 16
   },
   "source": [
    "通过tensor的`shape`属性来访问张量（沿每个轴的长度）的形状"
   ]
  },
  {
   "cell_type": "code",
   "execution_count": 3,
   "id": "b7e39a32",
   "metadata": {
    "origin_pos": 17,
    "tab": [
     "pytorch"
    ]
   },
   "outputs": [
    {
     "data": {
      "text/plain": [
       "torch.Size([12])"
      ]
     },
     "execution_count": 3,
     "metadata": {},
     "output_type": "execute_result"
    }
   ],
   "source": [
    "x.shape"
   ]
  },
  {
   "cell_type": "markdown",
   "id": "1029d98a",
   "metadata": {
    "origin_pos": 18
   },
   "source": [
    "如果只想知道张量中元素的总数，即形状的所有元素乘积，可以检查它的大小（size）。"
   ]
  },
  {
   "cell_type": "code",
   "execution_count": 4,
   "id": "b6e3e2bd",
   "metadata": {
    "origin_pos": 20,
    "tab": [
     "pytorch"
    ]
   },
   "outputs": [
    {
     "data": {
      "text/plain": [
       "12"
      ]
     },
     "execution_count": 4,
     "metadata": {},
     "output_type": "execute_result"
    }
   ],
   "source": [
    "x.numel()"
   ]
  },
  {
   "cell_type": "markdown",
   "id": "0e1b111a",
   "metadata": {
    "origin_pos": 23
   },
   "source": [
    "要想改变一个张量的形状而不改变元素数量和元素值，可以调用`reshape`函数。\n",
    "\n",
    "注：可以通过`-1`来调用此自动计算出维度的功能。"
   ]
  },
  {
   "cell_type": "code",
   "execution_count": 5,
   "id": "309722cd",
   "metadata": {
    "origin_pos": 24,
    "tab": [
     "pytorch"
    ]
   },
   "outputs": [
    {
     "data": {
      "text/plain": [
       "tensor([[ 0,  1,  2,  3],\n",
       "        [ 4,  5,  6,  7],\n",
       "        [ 8,  9, 10, 11]])"
      ]
     },
     "execution_count": 5,
     "metadata": {},
     "output_type": "execute_result"
    }
   ],
   "source": [
    "x2 = x.reshape(3, 4)\n",
    "x2"
   ]
  },
  {
   "cell_type": "code",
   "execution_count": 6,
   "id": "507d2ae4-a438-4a72-bd3e-d33f109739ab",
   "metadata": {
    "scrolled": true
   },
   "outputs": [
    {
     "data": {
      "text/plain": [
       "tensor([[ 0,  1,  2,  3],\n",
       "        [ 4,  5,  6,  7],\n",
       "        [ 8,  9, 10, 11]])"
      ]
     },
     "execution_count": 6,
     "metadata": {},
     "output_type": "execute_result"
    }
   ],
   "source": [
    "x3 = x.reshape(-1, 4)\n",
    "x3"
   ]
  },
  {
   "cell_type": "code",
   "execution_count": 7,
   "id": "7f865e5f-98a5-4f80-b666-b32537f44f06",
   "metadata": {},
   "outputs": [
    {
     "data": {
      "text/plain": [
       "tensor([[ 0,  1,  2,  3],\n",
       "        [ 4,  5,  6,  7],\n",
       "        [ 8,  9, 10, 11]])"
      ]
     },
     "execution_count": 7,
     "metadata": {},
     "output_type": "execute_result"
    }
   ],
   "source": [
    "x4 = x.reshape(3, -1)\n",
    "x4"
   ]
  },
  {
   "cell_type": "markdown",
   "id": "ca141331-3cb5-49d8-9c33-3bd4ebad158e",
   "metadata": {},
   "source": [
    "`torch.zeros(...)`\n",
    "\n",
    "生成**全0**的tensor，一般用于初始化矩阵"
   ]
  },
  {
   "cell_type": "code",
   "execution_count": 8,
   "id": "833fe454",
   "metadata": {
    "origin_pos": 29,
    "tab": [
     "pytorch"
    ]
   },
   "outputs": [
    {
     "data": {
      "text/plain": [
       "tensor([[[0., 0., 0., 0.],\n",
       "         [0., 0., 0., 0.],\n",
       "         [0., 0., 0., 0.]],\n",
       "\n",
       "        [[0., 0., 0., 0.],\n",
       "         [0., 0., 0., 0.],\n",
       "         [0., 0., 0., 0.]]])"
      ]
     },
     "execution_count": 8,
     "metadata": {},
     "output_type": "execute_result"
    }
   ],
   "source": [
    "torch.zeros((2, 3, 4))"
   ]
  },
  {
   "cell_type": "markdown",
   "id": "61cc04dc",
   "metadata": {
    "origin_pos": 32
   },
   "source": [
    "`torch.ones(...)`\n",
    "\n",
    "生成**全1**的tensor，一般用于初始化矩阵"
   ]
  },
  {
   "cell_type": "code",
   "execution_count": 9,
   "id": "40772601",
   "metadata": {
    "origin_pos": 34,
    "tab": [
     "pytorch"
    ]
   },
   "outputs": [
    {
     "data": {
      "text/plain": [
       "tensor([[[1., 1., 1., 1.],\n",
       "         [1., 1., 1., 1.],\n",
       "         [1., 1., 1., 1.]],\n",
       "\n",
       "        [[1., 1., 1., 1.],\n",
       "         [1., 1., 1., 1.],\n",
       "         [1., 1., 1., 1.]]])"
      ]
     },
     "execution_count": 9,
     "metadata": {},
     "output_type": "execute_result"
    }
   ],
   "source": [
    "torch.ones((2, 3, 4))"
   ]
  },
  {
   "cell_type": "code",
   "execution_count": 10,
   "id": "9abdb3e5-8b20-4227-90f2-7c1ac0dca9ae",
   "metadata": {},
   "outputs": [
    {
     "data": {
      "text/plain": [
       "tensor([[[1., 1., 1., 1.],\n",
       "         [1., 1., 1., 1.],\n",
       "         [1., 1., 1., 1.]],\n",
       "\n",
       "        [[1., 1., 1., 1.],\n",
       "         [1., 1., 1., 1.],\n",
       "         [1., 1., 1., 1.]]])"
      ]
     },
     "execution_count": 10,
     "metadata": {},
     "output_type": "execute_result"
    }
   ],
   "source": [
    "torch.ones(2,3,4)"
   ]
  },
  {
   "cell_type": "markdown",
   "id": "9a7bab5c",
   "metadata": {
    "origin_pos": 37
   },
   "source": [
    "张量中每个元素的值也可以通过从某个特定的概率分布中随机采样得到。\n",
    "\n",
    "`torch.randn(...)`\n",
    "\n",
    "每个元素都从均值为0、标准差为1的标准高斯分布（正态分布）中随机采样。\n"
   ]
  },
  {
   "cell_type": "code",
   "execution_count": 11,
   "id": "d4fcb962",
   "metadata": {
    "origin_pos": 39,
    "tab": [
     "pytorch"
    ]
   },
   "outputs": [
    {
     "data": {
      "text/plain": [
       "tensor([[ 0.4576,  0.3486,  0.5026, -0.3907],\n",
       "        [-1.3482, -0.3349,  0.4526, -0.5706],\n",
       "        [-0.8101, -2.0379,  0.4522, -1.1677]])"
      ]
     },
     "execution_count": 11,
     "metadata": {},
     "output_type": "execute_result"
    }
   ],
   "source": [
    "torch.randn(3, 4)"
   ]
  },
  {
   "cell_type": "code",
   "execution_count": 12,
   "id": "7c0b340f-f1a3-4bb5-8553-1d5cf7e56f1b",
   "metadata": {},
   "outputs": [
    {
     "data": {
      "text/plain": [
       "tensor([[ 0.2303, -0.4891, -0.0785, -0.7408],\n",
       "        [-0.3140, -1.1735, -0.2338, -0.0529],\n",
       "        [-1.0651,  1.1312,  1.4806,  0.4982]])"
      ]
     },
     "execution_count": 12,
     "metadata": {},
     "output_type": "execute_result"
    }
   ],
   "source": [
    "torch.randn((3,4))"
   ]
  },
  {
   "cell_type": "markdown",
   "id": "58a269e5",
   "metadata": {
    "origin_pos": 42
   },
   "source": [
    "可以通过提供包含数值的Python列表（或嵌套列表），来为所需张量中的每个元素赋予确定值。\n"
   ]
  },
  {
   "cell_type": "code",
   "execution_count": 13,
   "id": "394e6a3a",
   "metadata": {
    "origin_pos": 44,
    "tab": [
     "pytorch"
    ]
   },
   "outputs": [
    {
     "data": {
      "text/plain": [
       "tensor([[2, 1, 4, 3],\n",
       "        [1, 2, 3, 4],\n",
       "        [4, 3, 2, 1]])"
      ]
     },
     "execution_count": 13,
     "metadata": {},
     "output_type": "execute_result"
    }
   ],
   "source": [
    "torch.tensor([[2, 1, 4, 3], [1, 2, 3, 4], [4, 3, 2, 1]])"
   ]
  },
  {
   "cell_type": "markdown",
   "id": "766cea1f",
   "metadata": {
    "origin_pos": 47
   },
   "source": [
    "## 运算符"
   ]
  },
  {
   "cell_type": "markdown",
   "id": "c0f1d8b4-4c05-47c4-a256-ba25ce256a79",
   "metadata": {},
   "source": [
    "对于任意**具有相同形状**的张量，\n",
    "**常见的标准算术运算符（`+`、`-`、`*`、`/`和`**`）**都可以被升级为**按元素运算**。\n",
    "\n",
    "注：使用逗号来表示一个具有5个元素的元组，其中每个元素都是按元素操作的结果。"
   ]
  },
  {
   "cell_type": "code",
   "execution_count": 15,
   "id": "ccf751ee",
   "metadata": {
    "origin_pos": 49,
    "tab": [
     "pytorch"
    ]
   },
   "outputs": [
    {
     "data": {
      "text/plain": [
       "(tensor([ 3.,  4.,  6., 10.]),\n",
       " tensor([-1.,  0.,  2.,  6.]),\n",
       " tensor([ 2.,  4.,  8., 16.]),\n",
       " tensor([0.5000, 1.0000, 2.0000, 4.0000]),\n",
       " tensor([ 1.,  4., 16., 64.]))"
      ]
     },
     "execution_count": 15,
     "metadata": {},
     "output_type": "execute_result"
    }
   ],
   "source": [
    "x = torch.tensor([1.0, 2, 4, 8])\n",
    "y = torch.tensor([2, 2, 2, 2])\n",
    "x + y, x - y, x * y, x / y, x ** y  # **运算符是求幂运算"
   ]
  },
  {
   "cell_type": "markdown",
   "id": "147e0960",
   "metadata": {
    "origin_pos": 52
   },
   "source": [
    "**求幂** `exp()`也可以按元素计算。\n"
   ]
  },
  {
   "cell_type": "code",
   "execution_count": 16,
   "id": "696900f7",
   "metadata": {
    "origin_pos": 54,
    "tab": [
     "pytorch"
    ]
   },
   "outputs": [
    {
     "data": {
      "text/plain": [
       "tensor([2.7183e+00, 7.3891e+00, 5.4598e+01, 2.9810e+03])"
      ]
     },
     "execution_count": 16,
     "metadata": {},
     "output_type": "execute_result"
    }
   ],
   "source": [
    "torch.exp(x)"
   ]
  },
  {
   "cell_type": "markdown",
   "id": "dc287989",
   "metadata": {
    "origin_pos": 57
   },
   "source": [
    "可以把多个张量**连接**（concatenate） `cat(tuple of Tensors, dim)`在一起，形成一个更大的张量。\n",
    "\n",
    "需要提供张量列表，并给出沿哪个轴连结。\n"
   ]
  },
  {
   "cell_type": "code",
   "execution_count": 8,
   "id": "cf38c887",
   "metadata": {
    "origin_pos": 59,
    "tab": [
     "pytorch"
    ]
   },
   "outputs": [
    {
     "data": {
      "text/plain": [
       "(tensor([[ 0.,  1.,  2.,  3.],\n",
       "         [ 4.,  5.,  6.,  7.],\n",
       "         [ 8.,  9., 10., 11.],\n",
       "         [ 2.,  1.,  4.,  3.],\n",
       "         [ 1.,  2.,  3.,  4.],\n",
       "         [ 4.,  3.,  2.,  1.]]),\n",
       " tensor([[ 0.,  1.,  2.,  3.,  2.,  1.,  4.,  3.],\n",
       "         [ 4.,  5.,  6.,  7.,  1.,  2.,  3.,  4.],\n",
       "         [ 8.,  9., 10., 11.,  4.,  3.,  2.,  1.]]))"
      ]
     },
     "execution_count": 8,
     "metadata": {},
     "output_type": "execute_result"
    }
   ],
   "source": [
    "X = torch.arange(12, dtype=torch.float32).reshape((3,4))\n",
    "Y = torch.tensor([[2.0, 1, 4, 3], [1, 2, 3, 4], [4, 3, 2, 1]])\n",
    "torch.cat((X, Y), dim=0), torch.cat((X, Y), dim=1)"
   ]
  },
  {
   "cell_type": "markdown",
   "id": "b511a4e2",
   "metadata": {
    "origin_pos": 62
   },
   "source": [
    "通过**逻辑运算符**构建二元张量。\n",
    "\n",
    "以`X == Y`为例：对于每个位置，如果`X`和`Y`在该位置相等，则新张量中相应项的值为1。\n"
   ]
  },
  {
   "cell_type": "code",
   "execution_count": 10,
   "id": "f760ca1d",
   "metadata": {
    "origin_pos": 63,
    "tab": [
     "pytorch"
    ]
   },
   "outputs": [
    {
     "data": {
      "text/plain": [
       "(tensor([[False,  True, False,  True],\n",
       "         [False, False, False, False],\n",
       "         [False, False, False, False]]),\n",
       " tensor([[False, False, False, False],\n",
       "         [ True,  True,  True,  True],\n",
       "         [ True,  True,  True,  True]]),\n",
       " tensor([[ True, False,  True, False],\n",
       "         [False, False, False, False],\n",
       "         [False, False, False, False]]))"
      ]
     },
     "execution_count": 10,
     "metadata": {},
     "output_type": "execute_result"
    }
   ],
   "source": [
    "X == Y, X > Y, X < Y "
   ]
  },
  {
   "cell_type": "markdown",
   "id": "f5287e1e",
   "metadata": {
    "origin_pos": 64
   },
   "source": [
    "对张量中的所有元素进行**求和**，会产生一个**单元素张量(没有shape)**。\n"
   ]
  },
  {
   "cell_type": "code",
   "execution_count": 15,
   "id": "7c176a4d",
   "metadata": {
    "origin_pos": 65,
    "tab": [
     "pytorch"
    ]
   },
   "outputs": [
    {
     "name": "stdout",
     "output_type": "stream",
     "text": [
      "tensor(66.)\n",
      "torch.Size([])\n",
      "1\n"
     ]
    }
   ],
   "source": [
    "S = X.sum()\n",
    "print(S)\n",
    "print(S.shape)\n",
    "print(S.numel())"
   ]
  },
  {
   "cell_type": "code",
   "execution_count": 18,
   "id": "f5b45759-5cd0-48a1-a6ea-76262783bfdb",
   "metadata": {},
   "outputs": [
    {
     "name": "stdout",
     "output_type": "stream",
     "text": [
      "tensor([[False,  True, False,  True],\n",
      "        [False, False, False, False],\n",
      "        [False, False, False, False]])\n",
      "tensor(2)\n"
     ]
    }
   ],
   "source": [
    "R = (X == Y)\n",
    "print(R)\n",
    "print(R.sum())"
   ]
  },
  {
   "cell_type": "markdown",
   "id": "ff6e6c02",
   "metadata": {
    "origin_pos": 67
   },
   "source": [
    "## 广播机制\n"
   ]
  },
  {
   "cell_type": "markdown",
   "id": "b5dcec31-450f-4f02-87c5-7d4caa6dd41d",
   "metadata": {},
   "source": [
    "\n",
    "在某些情况下，即使**形状不同**，我们仍然可以通过调用**广播机制（broadcasting mechanism）**来执行**按元素操作**。\n",
    "这种机制的工作方式如下：\n",
    "\n",
    "1. 通过适当**复制元素**来扩展一个或两个数组，以便在转换之后，两个张量具有相同的形状；\n",
    "\n",
    "2. 对生成的数组执行按元素操作。\n"
   ]
  },
  {
   "cell_type": "markdown",
   "id": "3c2e1d7e-c478-47de-b4b4-c61c0cf35377",
   "metadata": {},
   "source": [
    "**可广播**的一对张量需满足以下规则：\n",
    "\n",
    "1. 每个张量**至少有一个维度**。\n",
    "\n",
    "2. 迭代维度尺寸时，从**尾部的维度**开始，维度尺寸\n",
    "\n",
    "- 或者相等，\n",
    "\n",
    "- 或者其中一个张量的维度尺寸为 1 ，\n",
    "\n",
    "- 或者其中一个张量不存在这个维度。\n",
    "\n",
    "**广播后的张量尺寸**：\n",
    "\n",
    "如果x和y的维数不等，在维数较少的张量上添加尺寸为 1 的维度。结果维度尺寸是**x和y相应维度尺寸的较大者**。"
   ]
  },
  {
   "cell_type": "code",
   "execution_count": 5,
   "id": "f1a78cda",
   "metadata": {
    "origin_pos": 69,
    "tab": [
     "pytorch"
    ]
   },
   "outputs": [
    {
     "name": "stdout",
     "output_type": "stream",
     "text": [
      "tensor([[0],\n",
      "        [1],\n",
      "        [2]]) tensor([[0, 1]])\n",
      "tensor([[0, 1],\n",
      "        [1, 2],\n",
      "        [2, 3]])\n",
      "torch.Size([3, 2])\n"
     ]
    }
   ],
   "source": [
    "a = torch.arange(3).reshape((3, 1))\n",
    "b = torch.arange(2).reshape((1, 2))\n",
    "print(a, b)\n",
    "print(a + b)\n",
    "print((a+b).shape)"
   ]
  },
  {
   "cell_type": "code",
   "execution_count": 8,
   "id": "6311863f-3ea0-461e-b76f-5c2a7a28290e",
   "metadata": {},
   "outputs": [
    {
     "name": "stdout",
     "output_type": "stream",
     "text": [
      "torch.Size([5, 3, 4, 1])\n"
     ]
    }
   ],
   "source": [
    "# 示例：不可广播（ a 不满足第一条规则）。\n",
    "a = torch.empty((0,))\n",
    "b = torch.empty(2, 2)\n",
    "\n",
    "# 示例：可广播：\n",
    "m = torch.empty(5, 1, 4, 1)\n",
    "n = torch.empty(   3, 1, 1)\n",
    "print((m + n).shape) # torch.Size([5, 3, 4, 1])\n",
    "\n",
    "# 示例：不可广播，因为倒数第三个维度：2 != 3\n",
    "p = torch.empty(5, 2, 4, 1)\n",
    "q = torch.empty(   3, 1, 1)"
   ]
  },
  {
   "cell_type": "markdown",
   "id": "e1c289ca",
   "metadata": {
    "origin_pos": 74
   },
   "source": [
    "## 索引和切片"
   ]
  },
  {
   "cell_type": "markdown",
   "id": "6b539385-6fda-4be6-94c7-edaa5df7d4cd",
   "metadata": {},
   "source": [
    "张量中的元素可以通过**索引访问**。\n",
    "\n",
    "第一个元素的索引是`0`，最后一个元素索引是`-1`；\n",
    "\n",
    "指定范围包含第一个元素和最后一个**之前**的元素。"
   ]
  },
  {
   "cell_type": "code",
   "execution_count": 36,
   "id": "f3aa99c2",
   "metadata": {
    "origin_pos": 75,
    "tab": [
     "pytorch"
    ]
   },
   "outputs": [
    {
     "data": {
      "text/plain": [
       "(tensor([[ 0.,  1.,  2.,  3.],\n",
       "         [ 4.,  5.,  6.,  7.],\n",
       "         [ 8.,  9., 10., 11.]]),\n",
       " tensor([ 8.,  9., 10., 11.]),\n",
       " tensor([[ 4.,  5.,  6.,  7.],\n",
       "         [ 8.,  9., 10., 11.]]))"
      ]
     },
     "execution_count": 36,
     "metadata": {},
     "output_type": "execute_result"
    }
   ],
   "source": [
    "X = torch.arange(12, dtype=torch.float32).reshape((3,4))\n",
    "X, X[-1], X[1:3]"
   ]
  },
  {
   "cell_type": "markdown",
   "id": "a47b41fd",
   "metadata": {
    "origin_pos": 76,
    "tab": [
     "pytorch"
    ]
   },
   "source": [
    "可以通过**指定索引**来将元素**写入**矩阵。\n"
   ]
  },
  {
   "cell_type": "code",
   "execution_count": 37,
   "id": "c0a1c2d4",
   "metadata": {
    "origin_pos": 78,
    "tab": [
     "pytorch"
    ]
   },
   "outputs": [
    {
     "data": {
      "text/plain": [
       "tensor([[ 0.,  1.,  2.,  3.],\n",
       "        [ 4.,  5.,  9.,  7.],\n",
       "        [ 8.,  9., 10., 11.]])"
      ]
     },
     "execution_count": 37,
     "metadata": {},
     "output_type": "execute_result"
    }
   ],
   "source": [
    "X[1, 2] = 9\n",
    "X"
   ]
  },
  {
   "cell_type": "markdown",
   "id": "f43fa16c",
   "metadata": {
    "origin_pos": 80
   },
   "source": [
    "如果我们想**为多个元素赋值相同的值**，我们只需要索引所有元素，然后为它们赋值。\n",
    "\n",
    "“:”代表沿轴的所有元素。\n",
    "\n",
    "适用于向量和超过2个维度的张量。"
   ]
  },
  {
   "cell_type": "code",
   "execution_count": 38,
   "id": "da6dc5b4",
   "metadata": {
    "origin_pos": 81,
    "tab": [
     "pytorch"
    ]
   },
   "outputs": [
    {
     "data": {
      "text/plain": [
       "tensor([[12., 12., 12., 12.],\n",
       "        [12., 12., 12., 12.],\n",
       "        [ 8.,  9., 10., 11.]])"
      ]
     },
     "execution_count": 38,
     "metadata": {},
     "output_type": "execute_result"
    }
   ],
   "source": [
    "X[0:2, :] = 12\n",
    "X"
   ]
  },
  {
   "cell_type": "markdown",
   "id": "b1fea0db",
   "metadata": {
    "origin_pos": 83
   },
   "source": [
    "## 节省内存\n",
    "\n",
    "运行一些操作可能会**导致为新结果分配内存**\n",
    "\n",
    "例如，如果我们用`Y = X + Y`，我们将取消引用`Y`指向的张量，而是**指向新分配的内存处的张量**。\n",
    "运行`Y = Y + X`后，我们会发现`id(Y)`指向另一个位置。\n",
    "这是因为Python首先计算`Y + X`，为结果分配新的内存，然后使`Y`指向内存中的这个新位置。\n",
    "\n",
    "Python的`id()`函数提供了内存中引用对象的确切地址。\n",
    "\n"
   ]
  },
  {
   "cell_type": "code",
   "execution_count": 39,
   "id": "3539c38d",
   "metadata": {
    "origin_pos": 84,
    "tab": [
     "pytorch"
    ]
   },
   "outputs": [
    {
     "data": {
      "text/plain": [
       "False"
      ]
     },
     "execution_count": 39,
     "metadata": {},
     "output_type": "execute_result"
    }
   ],
   "source": [
    "before = id(Y)\n",
    "Y = Y + X\n",
    "id(Y) == before"
   ]
  },
  {
   "cell_type": "markdown",
   "id": "60824ee7",
   "metadata": {
    "origin_pos": 85
   },
   "source": [
    "这可能是**不可取的**，原因有两个：\n",
    "\n",
    "1. 首先，我们不想总是不必要地分配内存。在机器学习中，我们可能有数百兆的参数，并且在一秒内多次更新所有参数。通常情况下，我们**希望原地执行这些更新**；\n",
    "2. 如果我们不原地更新，其他引用仍然会指向旧的内存位置，这样我们的某些代码**可能会无意中引用旧的参数**。\n"
   ]
  },
  {
   "cell_type": "markdown",
   "id": "10603b2d",
   "metadata": {
    "origin_pos": 86,
    "tab": [
     "pytorch"
    ]
   },
   "source": [
    "**执行原地操作**:\n",
    "\n",
    "使用**切片表示法**将操作的结果分配给先前分配的数组，例如`Y[:] = <expression>`。\n",
    "\n",
    "使用`zeros_like`来分配一个全$0$的块，形状与Y相同。\n"
   ]
  },
  {
   "cell_type": "code",
   "execution_count": 49,
   "id": "b4d3bc42-600e-4e4e-ab3f-1f0bd85337f8",
   "metadata": {},
   "outputs": [
    {
     "name": "stdout",
     "output_type": "stream",
     "text": [
      "id(Z): 140391485328416\n",
      "id(Z): 140391485328416\n"
     ]
    }
   ],
   "source": [
    "Z = torch.zeros_like(Y)\n",
    "print('id(Z):', id(Z))\n",
    "Z[:] = X + Y\n",
    "print('id(Z):', id(Z))"
   ]
  },
  {
   "cell_type": "code",
   "execution_count": 50,
   "id": "2ca02e8b-c2a3-4188-ba05-57b93010b30c",
   "metadata": {},
   "outputs": [
    {
     "name": "stdout",
     "output_type": "stream",
     "text": [
      "id(Y): 140391485326176\n",
      "id(Y): 140391485326176\n"
     ]
    }
   ],
   "source": [
    "print('id(Y):', id(Y))\n",
    "Y[:] = X + Y\n",
    "print('id(Y):', id(Y))"
   ]
  },
  {
   "cell_type": "markdown",
   "id": "21d1867d",
   "metadata": {
    "origin_pos": 92,
    "tab": [
     "pytorch"
    ]
   },
   "source": [
    "如果在后续计算中**没有重复使用`X`**，\n",
    "我们也可以使用`X[:] = X + Y`或`X += Y`来减少操作的内存开销。\n"
   ]
  },
  {
   "cell_type": "code",
   "execution_count": 47,
   "id": "118199c7",
   "metadata": {
    "origin_pos": 94,
    "tab": [
     "pytorch"
    ]
   },
   "outputs": [
    {
     "data": {
      "text/plain": [
       "True"
      ]
     },
     "execution_count": 47,
     "metadata": {},
     "output_type": "execute_result"
    }
   ],
   "source": [
    "before = id(X)\n",
    "X += Y\n",
    "id(X) == before"
   ]
  },
  {
   "cell_type": "markdown",
   "id": "a52e90a0",
   "metadata": {
    "origin_pos": 96
   },
   "source": [
    "## 转换为其他Python对象\n"
   ]
  },
  {
   "cell_type": "markdown",
   "id": "458d0cd9",
   "metadata": {
    "origin_pos": 98,
    "tab": [
     "pytorch"
    ]
   },
   "source": [
    "torch张量和numpy数组很容易相互转换，\n",
    "\n",
    "torch张量和numpy数组将**共享它们的底层内存**，**就地操作更改一个张量也会同时更改另一个张量**。"
   ]
  },
  {
   "cell_type": "code",
   "execution_count": 2,
   "id": "4ae87f13",
   "metadata": {
    "origin_pos": 100,
    "tab": [
     "pytorch"
    ]
   },
   "outputs": [
    {
     "name": "stdout",
     "output_type": "stream",
     "text": [
      "<class 'numpy.ndarray'> <class 'torch.Tensor'>\n",
      "id(X): 140091616366240\n",
      "id(A): 140091603189360\n",
      "id(B): 140095596149392\n"
     ]
    }
   ],
   "source": [
    "X = torch.arange(12, dtype=torch.float32).reshape((3,4))\n",
    "A = X.numpy()\n",
    "B = torch.tensor(A)\n",
    "print(type(A), type(B))\n",
    "print(\"id(X):\", id(X))\n",
    "print(\"id(A):\", id(A))\n",
    "print(\"id(B):\", id(B))"
   ]
  },
  {
   "cell_type": "markdown",
   "id": "919d7632-8ac8-4a68-9569-6376c60e8c63",
   "metadata": {},
   "source": [
    "**`.numpy()`和`torch.from_numpy()`共享内存，`torch.tensor()`不共享内存。**\n",
    "\n",
    "下面的例子中：`X(Tensor)`和`A(numpy)`共享内存，`C(Tensor)`和`A(numpy)`共享内存，但`A(numpy)`和`B(Tensor)`不共享内存。"
   ]
  },
  {
   "cell_type": "code",
   "execution_count": 3,
   "id": "fab3339b-0a07-4da9-a1f3-a6955a4b0364",
   "metadata": {},
   "outputs": [
    {
     "name": "stdout",
     "output_type": "stream",
     "text": [
      "tensor([[ 0.,  1.,  2.,  3.],\n",
      "        [ 4.,  5.,  6.,  7.],\n",
      "        [ 8.,  9., 10., 11.]])\n",
      "tensor([[12., 13.,  2.,  3.],\n",
      "        [ 4.,  5.,  6.,  7.],\n",
      "        [ 8.,  9., 10., 11.]])\n",
      "[[12. 13.  2.  3.]\n",
      " [ 4.  5.  6.  7.]\n",
      " [ 8.  9. 10. 11.]]\n",
      "tensor([[ 0.,  1.,  2.,  3.],\n",
      "        [ 4.,  5.,  6.,  7.],\n",
      "        [ 8.,  9., 10., 11.]])\n",
      "tensor([[12., 13.,  2.,  3.],\n",
      "        [ 4.,  5.,  6.,  7.],\n",
      "        [ 8.,  9., 10., 11.]])\n"
     ]
    }
   ],
   "source": [
    "X = torch.arange(12, dtype=torch.float32).reshape((3,4))\n",
    "A = X.numpy()\n",
    "B = torch.tensor(A)\n",
    "C = torch.from_numpy(A)\n",
    "print(X)\n",
    "X[0, 0] = 12\n",
    "A[0, 1] = 13\n",
    "print(X)\n",
    "print(A)\n",
    "print(B)\n",
    "print(C)"
   ]
  },
  {
   "cell_type": "markdown",
   "id": "c5a8be1e",
   "metadata": {
    "origin_pos": 103
   },
   "source": [
    "要将**大小为1的张量**转换为**Python标量**，可以调用`item`函数或Python的内置函数。\n"
   ]
  },
  {
   "cell_type": "code",
   "execution_count": 6,
   "id": "cf26d4aa",
   "metadata": {
    "origin_pos": 105,
    "tab": [
     "pytorch"
    ]
   },
   "outputs": [
    {
     "name": "stdout",
     "output_type": "stream",
     "text": [
      "torch.Size([1])\n"
     ]
    },
    {
     "data": {
      "text/plain": [
       "(tensor([3.5000]), 3.5, 3.5, 3)"
      ]
     },
     "execution_count": 6,
     "metadata": {},
     "output_type": "execute_result"
    }
   ],
   "source": [
    "a = torch.tensor([3.5])\n",
    "print(a.shape)\n",
    "a, a.item(), float(a), int(a)"
   ]
  },
  {
   "cell_type": "markdown",
   "id": "0f3b7eb0",
   "metadata": {
    "origin_pos": 108
   },
   "source": [
    "## 小结\n",
    "\n",
    "* 深度学习存储和操作数据的主要接口是张量（$n$维数组）。它提供了各种功能，包括基本数学运算、广播、索引、切片、内存节省和转换其他Python对象。\n",
    "\n",
    "## 练习\n",
    "\n",
    "1. 运行本节中的代码。将本节中的条件语句`X == Y`更改为`X < Y`或`X > Y`，然后看看你可以得到什么样的张量。\n",
    "1. 用其他形状（例如三维张量）替换广播机制中按元素操作的两个张量。结果是否与预期相同？\n"
   ]
  },
  {
   "cell_type": "markdown",
   "id": "f41e8f8f",
   "metadata": {
    "origin_pos": 110,
    "tab": [
     "pytorch"
    ]
   },
   "source": [
    "[Discussions](https://discuss.d2l.ai/t/1747)\n"
   ]
  },
  {
   "cell_type": "code",
   "execution_count": null,
   "id": "5ac85368-2b7f-49e4-a236-876155c8812d",
   "metadata": {},
   "outputs": [],
   "source": []
  }
 ],
 "metadata": {
  "kernelspec": {
   "display_name": "Python 3 (ipykernel)",
   "language": "python",
   "name": "python3"
  },
  "language_info": {
   "codemirror_mode": {
    "name": "ipython",
    "version": 3
   },
   "file_extension": ".py",
   "mimetype": "text/x-python",
   "name": "python",
   "nbconvert_exporter": "python",
   "pygments_lexer": "ipython3",
   "version": "3.9.23"
  }
 },
 "nbformat": 4,
 "nbformat_minor": 5
}
