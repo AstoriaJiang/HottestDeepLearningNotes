{
 "cells": [
  {
   "cell_type": "markdown",
   "id": "539f91f0",
   "metadata": {
    "origin_pos": 0
   },
   "source": [
    "# 线性代数\n",
    "\n",
    "- 线性代数\n",
    "    - 标量\n",
    "    - 向量\n",
    "        - 长度、维度和形状\n",
    "    - 矩阵\n",
    "    - 张量\n",
    "    - 张量算法的基本性质\n",
    "    - 降维\n",
    "        - 非降维求和\n",
    "    - 点积\n",
    "    - 矩阵-向量积\n",
    "    - 矩阵-矩阵乘法\n",
    "    - 范数\n"
   ]
  },
  {
   "cell_type": "markdown",
   "id": "b9e372a3-a455-4e6f-8385-9f43f61fe2e0",
   "metadata": {},
   "source": [
    "## 标量\n",
    "\n",
    "**标量**由**只有一个元素的张量**表示。\n",
    "\n",
    "**注：tensor()内'['的个数和张量的维度数相等。**"
   ]
  },
  {
   "cell_type": "code",
   "execution_count": 2,
   "id": "8428fe2d",
   "metadata": {
    "origin_pos": 2,
    "tab": [
     "pytorch"
    ]
   },
   "outputs": [
    {
     "data": {
      "text/plain": [
       "(tensor(5.), tensor(6.), tensor(1.5000), tensor(9.))"
      ]
     },
     "execution_count": 2,
     "metadata": {},
     "output_type": "execute_result"
    }
   ],
   "source": [
    "import torch\n",
    "\n",
    "x = torch.tensor(3.0)\n",
    "y = torch.tensor(2.0)\n",
    "\n",
    "x + y, x * y, x / y, x**y"
   ]
  },
  {
   "cell_type": "markdown",
   "id": "95331593",
   "metadata": {
    "origin_pos": 5
   },
   "source": [
    "## 向量\n",
    "\n",
    "**向量**可以被视为**标量值组成的列表**。这些标量值被称为向量的*元素*（element）或*分量*（component）。\n",
    "\n",
    "在数学表示法中，向量通常记为粗体、小写的符号\n",
    "（例如，$\\mathbf{x}$、$\\mathbf{y}$和$\\mathbf{z})$）。\n",
    "\n",
    "人们通过一维张量表示向量。一般来说，张量可以具有任意长度，取决于机器的内存限制。\n"
   ]
  },
  {
   "cell_type": "code",
   "execution_count": 2,
   "id": "c993f620",
   "metadata": {
    "origin_pos": 7,
    "tab": [
     "pytorch"
    ]
   },
   "outputs": [
    {
     "data": {
      "text/plain": [
       "(tensor([0, 1, 2, 3]), tensor([3.]))"
      ]
     },
     "execution_count": 2,
     "metadata": {},
     "output_type": "execute_result"
    }
   ],
   "source": [
    "x = torch.arange(4)\n",
    "y = torch.tensor([3.0])\n",
    "x, y"
   ]
  },
  {
   "cell_type": "markdown",
   "id": "488a92c7",
   "metadata": {
    "origin_pos": 10
   },
   "source": [
    "可以使用下标来引用向量的任一元素，例如可以通过$x_i$来引用第$i$个元素。\n",
    "注意，元素$x_i$是一个标量，所以我们在引用它时不会加粗。\n",
    "\n",
    "大量文献认为列向量是向量的默认方向，在本书中也是如此。\n",
    "\n",
    "在数学中，向量$\\mathbf{x}$可以写为：\n",
    "\n",
    "$$\\mathbf{x} =\\begin{bmatrix}x_{1}  \\\\x_{2}  \\\\ \\vdots  \\\\x_{n}\\end{bmatrix},$$\n",
    "\n",
    "其中$x_1,\\ldots,x_n$是向量的元素。\n",
    "\n",
    "在代码中，我们**通过张量的索引来访问任一元素**。\n"
   ]
  },
  {
   "cell_type": "code",
   "execution_count": 3,
   "id": "e6fd7ba7",
   "metadata": {
    "origin_pos": 12,
    "tab": [
     "pytorch"
    ]
   },
   "outputs": [
    {
     "data": {
      "text/plain": [
       "(tensor(3), tensor(3.))"
      ]
     },
     "execution_count": 3,
     "metadata": {},
     "output_type": "execute_result"
    }
   ],
   "source": [
    "x[3], y[0]"
   ]
  },
  {
   "cell_type": "markdown",
   "id": "387b5d1f",
   "metadata": {
    "origin_pos": 15
   },
   "source": [
    "### 长度、维度和形状\n",
    "\n",
    "在数学表示法中，如果一个向量$\\mathbf{x}$由$n$个实值标量组成，\n",
    "可以将其表示为$\\mathbf{x}\\in\\mathbb{R}^n$。\n",
    "\n",
    "向量的长度通常称为向量的**维度**（dimension）。\n",
    "\n",
    "与普通的Python数组一样，我们可以通过调用Python的内置`len()`函数来**访问向量的长度**。\n"
   ]
  },
  {
   "cell_type": "code",
   "execution_count": 11,
   "id": "8f60ef45",
   "metadata": {
    "origin_pos": 17,
    "tab": [
     "pytorch"
    ]
   },
   "outputs": [
    {
     "data": {
      "text/plain": [
       "(4, 1, 3)"
      ]
     },
     "execution_count": 11,
     "metadata": {},
     "output_type": "execute_result"
    }
   ],
   "source": [
    "z = torch.arange(15).reshape(3,1,5) # 非向量\n",
    "\n",
    "len(x),len(y),len(z)"
   ]
  },
  {
   "cell_type": "markdown",
   "id": "4bfaab81",
   "metadata": {
    "origin_pos": 20
   },
   "source": [
    "当用张量表示一个向量（只有一个轴）时，我们也可以通过`.shape`属性访问向量的长度。"
   ]
  },
  {
   "cell_type": "code",
   "execution_count": 12,
   "id": "68936fe1",
   "metadata": {
    "origin_pos": 22,
    "tab": [
     "pytorch"
    ]
   },
   "outputs": [
    {
     "data": {
      "text/plain": [
       "(torch.Size([4]), torch.Size([1]), torch.Size([3, 1, 5]))"
      ]
     },
     "execution_count": 12,
     "metadata": {},
     "output_type": "execute_result"
    }
   ],
   "source": [
    "x.shape, y.shape, z.shape"
   ]
  },
  {
   "cell_type": "markdown",
   "id": "13c11979",
   "metadata": {
    "origin_pos": 25
   },
   "source": [
    "请注意，*维度*（dimension）这个词在不同上下文时往往会有不同的含义，这经常会使人感到困惑。\n",
    "\n",
    "*向量*或*轴*的维度被用来表示*向量*或*轴*的长度，即向量或轴的元素数量。\n",
    "\n",
    "然而，张量的维度用来表示张量具有的轴数。\n",
    "在这个意义上，张量的某个轴的维数就是这个轴的长度。"
   ]
  },
  {
   "cell_type": "markdown",
   "id": "9f5404b4-ebe6-4a7c-8720-0c353168293a",
   "metadata": {},
   "source": [
    "## 矩阵\n",
    "\n",
    "矩阵，我们通常用粗体、大写字母来表示\n",
    "（例如，$\\mathbf{X}$、$\\mathbf{Y}$和$\\mathbf{Z}$），\n",
    "在代码中表示为具有两个轴的张量。\n",
    "\n",
    "数学表示法使用$\\mathbf{A} \\in \\mathbb{R}^{m \\times n}$\n",
    "来表示矩阵$\\mathbf{A}$，其由$m$行和$n$列的实值标量组成。\n",
    "\n",
    "$$\\mathbf{A}=\\begin{bmatrix} a_{11} & a_{12} & \\cdots & a_{1n} \\\\ a_{21} & a_{22} & \\cdots & a_{2n} \\\\ \\vdots & \\vdots & \\ddots & \\vdots \\\\ a_{m1} & a_{m2} & \\cdots & a_{mn} \\\\ \\end{bmatrix}.$$\n",
    "\n",
    "\n",
    "对于任意$\\mathbf{A} \\in \\mathbb{R}^{m \\times n}$，\n",
    "$\\mathbf{A}$的形状是（$m$,$n$）或$m \\times n$。\n",
    "当矩阵具有相同数量的行和列时，其形状将变为正方形；\n",
    "因此，它被称为*方阵*（square matrix）。\n",
    "\n",
    "当调用函数来实例化张量时，\n",
    "我们可以**通过指定两个分量$m$和$n$来创建一个形状为$m \\times n$的矩阵**。\n"
   ]
  },
  {
   "cell_type": "code",
   "execution_count": 9,
   "id": "3b0271e8",
   "metadata": {
    "origin_pos": 27,
    "tab": [
     "pytorch"
    ]
   },
   "outputs": [
    {
     "data": {
      "text/plain": [
       "tensor([[ 0,  1,  2,  3],\n",
       "        [ 4,  5,  6,  7],\n",
       "        [ 8,  9, 10, 11],\n",
       "        [12, 13, 14, 15],\n",
       "        [16, 17, 18, 19]])"
      ]
     },
     "execution_count": 9,
     "metadata": {},
     "output_type": "execute_result"
    }
   ],
   "source": [
    "A = torch.arange(20).reshape(5, 4)\n",
    "A"
   ]
  },
  {
   "cell_type": "markdown",
   "id": "c1e1ba50",
   "metadata": {
    "origin_pos": 30
   },
   "source": [
    "我们可以通过行索引（$i$）和列索引（$j$）来访问矩阵中的标量元素$a_{ij}$，\n",
    "例如$[\\mathbf{A}]_{ij}$或$a_{ij}$。\n",
    "\n",
    "\n",
    "当我们交换矩阵的行和列时，结果称为矩阵的**转置**（transpose）。\n",
    "通常用$\\mathbf{A}^\\top$来表示矩阵$\\mathbf{A}$的转置。\n",
    "因此，在$\\mathbf{A} \\in \\mathbb{R}^{m \\times n}$中的转置是一个形状为$n \\times m$的矩阵：\n",
    "\n",
    "$$\n",
    "\\mathbf{A}^\\top =\n",
    "\\begin{bmatrix}\n",
    "    a_{11} & a_{21} & \\dots  & a_{m1} \\\\\n",
    "    a_{12} & a_{22} & \\dots  & a_{m2} \\\\\n",
    "    \\vdots & \\vdots & \\ddots  & \\vdots \\\\\n",
    "    a_{1n} & a_{2n} & \\dots  & a_{mn}\n",
    "\\end{bmatrix}.\n",
    "$$\n",
    "\n",
    "现在在代码中访问**矩阵的转置**。\n"
   ]
  },
  {
   "cell_type": "code",
   "execution_count": 13,
   "id": "1a1619e7",
   "metadata": {
    "origin_pos": 32,
    "tab": [
     "pytorch"
    ]
   },
   "outputs": [
    {
     "data": {
      "text/plain": [
       "tensor([[ 0,  4,  8, 12, 16],\n",
       "        [ 1,  5,  9, 13, 17],\n",
       "        [ 2,  6, 10, 14, 18],\n",
       "        [ 3,  7, 11, 15, 19]])"
      ]
     },
     "execution_count": 13,
     "metadata": {},
     "output_type": "execute_result"
    }
   ],
   "source": [
    "A.T"
   ]
  },
  {
   "cell_type": "markdown",
   "id": "994307c0",
   "metadata": {
    "origin_pos": 35
   },
   "source": [
    "作为**方阵**的一种特殊类型，***对称矩阵*（symmetric matrix）$\\mathbf{A}$等于其转置：$\\mathbf{A} = \\mathbf{A}^\\top$**。\n",
    "这里定义一个对称矩阵$\\mathbf{B}$：\n"
   ]
  },
  {
   "cell_type": "code",
   "execution_count": 14,
   "id": "49554f58",
   "metadata": {
    "origin_pos": 37,
    "tab": [
     "pytorch"
    ]
   },
   "outputs": [
    {
     "data": {
      "text/plain": [
       "tensor([[1, 2, 3],\n",
       "        [2, 0, 4],\n",
       "        [3, 4, 5]])"
      ]
     },
     "execution_count": 14,
     "metadata": {},
     "output_type": "execute_result"
    }
   ],
   "source": [
    "B = torch.tensor([[1, 2, 3], [2, 0, 4], [3, 4, 5]])\n",
    "B"
   ]
  },
  {
   "cell_type": "markdown",
   "id": "7f039ae5",
   "metadata": {
    "origin_pos": 40
   },
   "source": [
    "现在我们将`B`与它的转置进行比较。\n"
   ]
  },
  {
   "cell_type": "code",
   "execution_count": 15,
   "id": "29a3fe08",
   "metadata": {
    "origin_pos": 42,
    "tab": [
     "pytorch"
    ]
   },
   "outputs": [
    {
     "data": {
      "text/plain": [
       "tensor([[True, True, True],\n",
       "        [True, True, True],\n",
       "        [True, True, True]])"
      ]
     },
     "execution_count": 15,
     "metadata": {},
     "output_type": "execute_result"
    }
   ],
   "source": [
    "B == B.T"
   ]
  },
  {
   "cell_type": "markdown",
   "id": "e46673ae-ac9d-4e9c-8b01-420364400490",
   "metadata": {},
   "source": [
    "尽管单个向量的默认方向是列向量，但在表示表格数据集的矩阵中，\n",
    "将每个数据样本作为矩阵中的行向量更为常见。"
   ]
  },
  {
   "cell_type": "markdown",
   "id": "8495683f",
   "metadata": {
    "origin_pos": 45
   },
   "source": [
    "## 张量\n",
    "\n",
    "张量（本小节中的“张量”指代数对象）是描述**具有任意数量轴的$n$维数组**的通用方法。\n",
    "例如，向量是一阶张量，矩阵是二阶张量。\n",
    "\n",
    "张量用特殊字体的大写字母表示（例如，$\\mathsf{X}$、$\\mathsf{Y}$和$\\mathsf{Z}$），\n",
    "它们的索引机制（例如$x_{ijk}$和$[\\mathsf{X}]_{1,2i-1,3}$）与矩阵类似。\n",
    "\n",
    "当我们开始处理图像时，张量将变得更加重要，图像以$n$维数组形式出现，\n",
    "其中3个轴对应于高度、宽度，以及一个*通道*（channel）轴，\n",
    "用于表示颜色通道（红色、绿色和蓝色）。\n"
   ]
  },
  {
   "cell_type": "code",
   "execution_count": 16,
   "id": "6026dc3e",
   "metadata": {
    "origin_pos": 47,
    "tab": [
     "pytorch"
    ]
   },
   "outputs": [
    {
     "data": {
      "text/plain": [
       "tensor([[[ 0,  1,  2,  3],\n",
       "         [ 4,  5,  6,  7],\n",
       "         [ 8,  9, 10, 11]],\n",
       "\n",
       "        [[12, 13, 14, 15],\n",
       "         [16, 17, 18, 19],\n",
       "         [20, 21, 22, 23]]])"
      ]
     },
     "execution_count": 16,
     "metadata": {},
     "output_type": "execute_result"
    }
   ],
   "source": [
    "X = torch.arange(24).reshape(2, 3, 4)\n",
    "X"
   ]
  },
  {
   "cell_type": "markdown",
   "id": "5660a911",
   "metadata": {
    "origin_pos": 50
   },
   "source": [
    "## 张量算法的基本性质\n",
    "\n",
    "标量、向量、矩阵和任意数量轴的张量（本小节中的“张量”指代数对象）有一些实用的属性。\n",
    "\n",
    "**给定具有相同形状的任意两个张量，任何按元素二元运算的结果都将是相同形状的张量**。\n",
    "例如，将两个相同形状的矩阵相加，会在这两个矩阵上执行元素加法。\n"
   ]
  },
  {
   "cell_type": "code",
   "execution_count": 17,
   "id": "daf13e51",
   "metadata": {
    "origin_pos": 52,
    "tab": [
     "pytorch"
    ]
   },
   "outputs": [
    {
     "data": {
      "text/plain": [
       "(tensor([[ 0.,  1.,  2.,  3.],\n",
       "         [ 4.,  5.,  6.,  7.],\n",
       "         [ 8.,  9., 10., 11.],\n",
       "         [12., 13., 14., 15.],\n",
       "         [16., 17., 18., 19.]]),\n",
       " tensor([[ 0.,  2.,  4.,  6.],\n",
       "         [ 8., 10., 12., 14.],\n",
       "         [16., 18., 20., 22.],\n",
       "         [24., 26., 28., 30.],\n",
       "         [32., 34., 36., 38.]]))"
      ]
     },
     "execution_count": 17,
     "metadata": {},
     "output_type": "execute_result"
    }
   ],
   "source": [
    "A = torch.arange(20, dtype=torch.float32).reshape(5, 4)\n",
    "B = A.clone()  # 通过分配新内存，将A的一个副本分配给B\n",
    "A, A + B"
   ]
  },
  {
   "cell_type": "markdown",
   "id": "9d49f69f",
   "metadata": {
    "origin_pos": 55
   },
   "source": [
    "**两个矩阵的按元素乘法称为*Hadamard积*（Hadamard product）（数学符号$\\odot$）**。\n",
    "\n",
    "对于矩阵$\\mathbf{B} \\in \\mathbb{R}^{m \\times n}$，\n",
    "矩阵$\\mathbf{A}$和$\\mathbf{B}$的Hadamard积为：\n",
    "$$\n",
    "\\mathbf{A} \\odot \\mathbf{B} =\n",
    "\\begin{bmatrix}\n",
    "    a_{11}  b_{11} & a_{12}  b_{12} & \\dots  & a_{1n}  b_{1n} \\\\\n",
    "    a_{21}  b_{21} & a_{22}  b_{22} & \\dots  & a_{2n}  b_{2n} \\\\\n",
    "    \\vdots & \\vdots & \\ddots & \\vdots \\\\\n",
    "    a_{m1}  b_{m1} & a_{m2}  b_{m2} & \\dots  & a_{mn}  b_{mn}\n",
    "\\end{bmatrix}.\n",
    "$$\n"
   ]
  },
  {
   "cell_type": "code",
   "execution_count": 18,
   "id": "3fcf4677",
   "metadata": {
    "origin_pos": 57,
    "tab": [
     "pytorch"
    ]
   },
   "outputs": [
    {
     "data": {
      "text/plain": [
       "tensor([[  0.,   1.,   4.,   9.],\n",
       "        [ 16.,  25.,  36.,  49.],\n",
       "        [ 64.,  81., 100., 121.],\n",
       "        [144., 169., 196., 225.],\n",
       "        [256., 289., 324., 361.]])"
      ]
     },
     "execution_count": 18,
     "metadata": {},
     "output_type": "execute_result"
    }
   ],
   "source": [
    "A * B"
   ]
  },
  {
   "cell_type": "markdown",
   "id": "daa11957",
   "metadata": {
    "origin_pos": 60
   },
   "source": [
    "将**张量乘以或加上一个标量**不会改变张量的形状，其中张量的**每个元素都将与标量相加或相乘**。\n"
   ]
  },
  {
   "cell_type": "code",
   "execution_count": 20,
   "id": "f4642bf4",
   "metadata": {
    "origin_pos": 62,
    "tab": [
     "pytorch"
    ]
   },
   "outputs": [
    {
     "data": {
      "text/plain": [
       "(tensor([[[ 0,  1,  2,  3],\n",
       "          [ 4,  5,  6,  7],\n",
       "          [ 8,  9, 10, 11]],\n",
       " \n",
       "         [[12, 13, 14, 15],\n",
       "          [16, 17, 18, 19],\n",
       "          [20, 21, 22, 23]]]),\n",
       " tensor([[[ 2,  3,  4,  5],\n",
       "          [ 6,  7,  8,  9],\n",
       "          [10, 11, 12, 13]],\n",
       " \n",
       "         [[14, 15, 16, 17],\n",
       "          [18, 19, 20, 21],\n",
       "          [22, 23, 24, 25]]]),\n",
       " tensor([[[ 0,  2,  4,  6],\n",
       "          [ 8, 10, 12, 14],\n",
       "          [16, 18, 20, 22]],\n",
       " \n",
       "         [[24, 26, 28, 30],\n",
       "          [32, 34, 36, 38],\n",
       "          [40, 42, 44, 46]]]),\n",
       " torch.Size([2, 3, 4]))"
      ]
     },
     "execution_count": 20,
     "metadata": {},
     "output_type": "execute_result"
    }
   ],
   "source": [
    "a = 2\n",
    "X = torch.arange(24).reshape(2, 3, 4)\n",
    "X, a + X, a * X, (a * X).shape"
   ]
  },
  {
   "cell_type": "markdown",
   "id": "db5a27d6",
   "metadata": {
    "origin_pos": 65
   },
   "source": [
    "## 降维\n",
    "\n",
    "我们可以对任意张量进行的一个有用的操作是**计算其元素的和**。\n",
    "数学表示法使用$\\sum$符号表示求和。\n",
    "\n",
    "在代码中可以调用计算求和的函数`.sum()`。默认情况下，调用求和函数会沿所有的轴降低张量的维度，使它变为一个标量。"
   ]
  },
  {
   "cell_type": "code",
   "execution_count": 8,
   "id": "0f1dba19",
   "metadata": {
    "origin_pos": 67,
    "tab": [
     "pytorch"
    ]
   },
   "outputs": [
    {
     "data": {
      "text/plain": [
       "(tensor([0., 1., 2., 3.]), tensor(6.))"
      ]
     },
     "execution_count": 8,
     "metadata": {},
     "output_type": "execute_result"
    }
   ],
   "source": [
    "# 向量\n",
    "x = torch.arange(4, dtype=torch.float32)\n",
    "x, x.sum()"
   ]
  },
  {
   "cell_type": "code",
   "execution_count": 3,
   "id": "8cdcb2ff",
   "metadata": {
    "origin_pos": 72,
    "tab": [
     "pytorch"
    ]
   },
   "outputs": [
    {
     "data": {
      "text/plain": [
       "(tensor([[ 0.,  1.,  2.,  3.],\n",
       "         [ 4.,  5.,  6.,  7.],\n",
       "         [ 8.,  9., 10., 11.],\n",
       "         [12., 13., 14., 15.],\n",
       "         [16., 17., 18., 19.]]),\n",
       " tensor(190.))"
      ]
     },
     "execution_count": 3,
     "metadata": {},
     "output_type": "execute_result"
    }
   ],
   "source": [
    "# 矩阵\n",
    "A = torch.arange(20, dtype=torch.float32).reshape(5, 4)\n",
    "A, A.sum()"
   ]
  },
  {
   "cell_type": "markdown",
   "id": "8ce9665f",
   "metadata": {
    "origin_pos": 75
   },
   "source": [
    "可以**指定张量沿哪一个轴来通过求和降低维度**。\n",
    "\n",
    "以矩阵为例，为了通过求和所有行的元素来降维（轴0），可以在调用函数时指定`axis=0`。\n",
    "由于输入矩阵沿0轴降维以生成输出向量，因此输入轴0的维数在输出形状中消失。\n"
   ]
  },
  {
   "cell_type": "code",
   "execution_count": 25,
   "id": "6e8f71da",
   "metadata": {
    "origin_pos": 77,
    "tab": [
     "pytorch"
    ]
   },
   "outputs": [
    {
     "data": {
      "text/plain": [
       "(tensor([40., 45., 50., 55.]), torch.Size([4]))"
      ]
     },
     "execution_count": 25,
     "metadata": {},
     "output_type": "execute_result"
    }
   ],
   "source": [
    "A_sum_axis0 = A.sum(axis=0)\n",
    "A_sum_axis0, A_sum_axis0.shape"
   ]
  },
  {
   "cell_type": "markdown",
   "id": "01cf2bc6",
   "metadata": {
    "origin_pos": 80
   },
   "source": [
    "指定`axis=1`将通过汇总所有列的元素降维（轴1）。因此，输入轴1的维数在输出形状中消失。\n"
   ]
  },
  {
   "cell_type": "code",
   "execution_count": 26,
   "id": "e148213f",
   "metadata": {
    "origin_pos": 82,
    "tab": [
     "pytorch"
    ]
   },
   "outputs": [
    {
     "data": {
      "text/plain": [
       "(tensor([ 6., 22., 38., 54., 70.]), torch.Size([5]))"
      ]
     },
     "execution_count": 26,
     "metadata": {},
     "output_type": "execute_result"
    }
   ],
   "source": [
    "A_sum_axis1 = A.sum(axis=1)\n",
    "A_sum_axis1, A_sum_axis1.shape"
   ]
  },
  {
   "cell_type": "markdown",
   "id": "7e2740be",
   "metadata": {
    "origin_pos": 85
   },
   "source": [
    "沿着行和列对矩阵求和，等价于对矩阵的所有元素进行求和。\n"
   ]
  },
  {
   "cell_type": "code",
   "execution_count": 27,
   "id": "572a733a",
   "metadata": {
    "origin_pos": 87,
    "tab": [
     "pytorch"
    ]
   },
   "outputs": [
    {
     "data": {
      "text/plain": [
       "tensor(190.)"
      ]
     },
     "execution_count": 27,
     "metadata": {},
     "output_type": "execute_result"
    }
   ],
   "source": [
    "A.sum(axis=[0, 1])  # 结果和A.sum()相同"
   ]
  },
  {
   "cell_type": "markdown",
   "id": "f0fb6eaa",
   "metadata": {
    "origin_pos": 90
   },
   "source": [
    "一个与求和相关的量是**平均值**（mean或average）。\n",
    "我们通过将总和除以元素总数来计算平均值。\n",
    "\n",
    "在代码中，我们可以调用函数`.mean()`来计算任意形状张量的平均值。\n"
   ]
  },
  {
   "cell_type": "code",
   "execution_count": 28,
   "id": "72e50902",
   "metadata": {
    "origin_pos": 92,
    "tab": [
     "pytorch"
    ]
   },
   "outputs": [
    {
     "data": {
      "text/plain": [
       "(tensor(9.5000), tensor(9.5000))"
      ]
     },
     "execution_count": 28,
     "metadata": {},
     "output_type": "execute_result"
    }
   ],
   "source": [
    "A.mean(), A.sum() / A.numel()"
   ]
  },
  {
   "cell_type": "markdown",
   "id": "563b63d5",
   "metadata": {
    "origin_pos": 95
   },
   "source": [
    "同样，计算平均值的函数也可以沿指定轴降低张量的维度。\n"
   ]
  },
  {
   "cell_type": "code",
   "execution_count": 29,
   "id": "0d826cfd",
   "metadata": {
    "origin_pos": 97,
    "scrolled": true,
    "tab": [
     "pytorch"
    ]
   },
   "outputs": [
    {
     "name": "stdout",
     "output_type": "stream",
     "text": [
      "5\n"
     ]
    },
    {
     "data": {
      "text/plain": [
       "(tensor([ 8.,  9., 10., 11.]), tensor([ 8.,  9., 10., 11.]))"
      ]
     },
     "execution_count": 29,
     "metadata": {},
     "output_type": "execute_result"
    }
   ],
   "source": [
    "print(A.shape[0])\n",
    "A.mean(axis=0), A.sum(axis=0) / A.shape[0]"
   ]
  },
  {
   "cell_type": "markdown",
   "id": "8584cbbf",
   "metadata": {
    "origin_pos": 100
   },
   "source": [
    "### 非降维求和\n",
    "\n",
    "有时在调用函数来**计算总和或均值时保持轴数不变**会很有用。\n"
   ]
  },
  {
   "cell_type": "code",
   "execution_count": 4,
   "id": "581b7536",
   "metadata": {
    "origin_pos": 102,
    "tab": [
     "pytorch"
    ]
   },
   "outputs": [
    {
     "data": {
      "text/plain": [
       "(tensor([[ 0.,  1.,  2.,  3.],\n",
       "         [ 4.,  5.,  6.,  7.],\n",
       "         [ 8.,  9., 10., 11.],\n",
       "         [12., 13., 14., 15.],\n",
       "         [16., 17., 18., 19.]]),\n",
       " tensor([[ 6.],\n",
       "         [22.],\n",
       "         [38.],\n",
       "         [54.],\n",
       "         [70.]]),\n",
       " torch.Size([5, 1]))"
      ]
     },
     "execution_count": 4,
     "metadata": {},
     "output_type": "execute_result"
    }
   ],
   "source": [
    "A = torch.arange(20, dtype=torch.float32).reshape(5, 4)\n",
    "sum_A = A.sum(axis=1, keepdims=True)\n",
    "A, sum_A, sum_A.shape"
   ]
  },
  {
   "cell_type": "markdown",
   "id": "ffcd9286",
   "metadata": {
    "origin_pos": 105
   },
   "source": [
    "例如，由于`sum_A`在对每行进行求和后仍保持两个轴，可以**通过广播将`A`除以`sum_A`**。\n"
   ]
  },
  {
   "cell_type": "code",
   "execution_count": 5,
   "id": "97fa6ce7",
   "metadata": {
    "origin_pos": 107,
    "tab": [
     "pytorch"
    ]
   },
   "outputs": [
    {
     "data": {
      "text/plain": [
       "tensor([[0.0000, 0.1667, 0.3333, 0.5000],\n",
       "        [0.1818, 0.2273, 0.2727, 0.3182],\n",
       "        [0.2105, 0.2368, 0.2632, 0.2895],\n",
       "        [0.2222, 0.2407, 0.2593, 0.2778],\n",
       "        [0.2286, 0.2429, 0.2571, 0.2714]])"
      ]
     },
     "execution_count": 5,
     "metadata": {},
     "output_type": "execute_result"
    }
   ],
   "source": [
    "A / sum_A"
   ]
  },
  {
   "cell_type": "markdown",
   "id": "3a86e461",
   "metadata": {
    "origin_pos": 110
   },
   "source": [
    "如果我们想沿**某个轴计算`A`元素的累积总和**，\n",
    "比如`axis=0`（按行计算），可以调用`cumsum`函数。\n",
    "此函数不会沿任何轴降低输入张量的维度。\n",
    "\n",
    "注：\n",
    "原张量：$a_0, a_1, a_2,...$，\n",
    "`cumsum`之后：$a_0, a_0+a_1, a_0+a_1+a_2,...$"
   ]
  },
  {
   "cell_type": "code",
   "execution_count": 6,
   "id": "ab93a7d7",
   "metadata": {
    "origin_pos": 112,
    "tab": [
     "pytorch"
    ]
   },
   "outputs": [
    {
     "name": "stdout",
     "output_type": "stream",
     "text": [
      "tensor([[ 0.,  1.,  2.,  3.],\n",
      "        [ 4.,  6.,  8., 10.],\n",
      "        [12., 15., 18., 21.],\n",
      "        [24., 28., 32., 36.],\n",
      "        [40., 45., 50., 55.]])\n",
      "tensor([[ 0.,  1.,  3.,  6.],\n",
      "        [ 4.,  9., 15., 22.],\n",
      "        [ 8., 17., 27., 38.],\n",
      "        [12., 25., 39., 54.],\n",
      "        [16., 33., 51., 70.]])\n"
     ]
    }
   ],
   "source": [
    "print(A.cumsum(axis=0))\n",
    "print(A.cumsum(axis=1))"
   ]
  },
  {
   "cell_type": "markdown",
   "id": "a9223197",
   "metadata": {
    "origin_pos": 115
   },
   "source": [
    "## 点积（Dot Product）\n",
    "\n",
    "给定两个向量$\\mathbf{x},\\mathbf{y}\\in\\mathbb{R}^d$，\n",
    "它们的*点积*（dot product）$\\mathbf{x}^\\top\\mathbf{y}$\n",
    "（或$\\langle\\mathbf{x},\\mathbf{y}\\rangle$）\n",
    "是相同位置的按元素乘积的和：$\\mathbf{x}^\\top \\mathbf{y} = \\sum_{i=1}^{d} x_i y_i$。\n",
    "\n"
   ]
  },
  {
   "cell_type": "code",
   "execution_count": 10,
   "id": "f2290d13",
   "metadata": {
    "origin_pos": 117,
    "tab": [
     "pytorch"
    ]
   },
   "outputs": [
    {
     "data": {
      "text/plain": [
       "(tensor([0., 1., 2., 3.]), tensor([1., 1., 1., 1.]), tensor(6.))"
      ]
     },
     "execution_count": 10,
     "metadata": {},
     "output_type": "execute_result"
    }
   ],
   "source": [
    "x = torch.arange(4, dtype=torch.float32)\n",
    "y = torch.ones(4, dtype = torch.float32)\n",
    "x, y, torch.dot(x, y)"
   ]
  },
  {
   "cell_type": "markdown",
   "id": "53b30bfe",
   "metadata": {
    "origin_pos": 120
   },
   "source": [
    "注意，可以通过执行按元素乘法，然后进行求和来表示两个向量的点积：\n"
   ]
  },
  {
   "cell_type": "code",
   "execution_count": 11,
   "id": "f32e6b06",
   "metadata": {
    "origin_pos": 122,
    "tab": [
     "pytorch"
    ]
   },
   "outputs": [
    {
     "data": {
      "text/plain": [
       "tensor(6.)"
      ]
     },
     "execution_count": 11,
     "metadata": {},
     "output_type": "execute_result"
    }
   ],
   "source": [
    "torch.sum(x * y)"
   ]
  },
  {
   "cell_type": "markdown",
   "id": "88b15941-7192-4c69-a096-cbede3b00e99",
   "metadata": {},
   "source": [
    "当权重为非负数且和为1（即$\\left(\\sum_{i=1}^{d}{w_i}=1\\right)$）时，\n",
    "点积表示*加权平均*（weighted average）。\n",
    "\n",
    "将两个向量规范化得到单位长度后，点积表示它们夹角的余弦。"
   ]
  },
  {
   "cell_type": "markdown",
   "id": "8a4c6803",
   "metadata": {
    "origin_pos": 125
   },
   "source": [
    "## 矩阵-向量积\n",
    "\n",
    "**矩阵-向量积**（matrix-vector product）：\n",
    "回顾定义的矩阵$\\mathbf{A} \\in \\mathbb{R}^{m \\times n}$和向量$\\mathbf{x} \\in \\mathbb{R}^n$。\n",
    "让我们将矩阵$\\mathbf{A}$用它的行向量表示：\n",
    "\n",
    "$$\\mathbf{A}=\n",
    "\\begin{bmatrix}\n",
    "\\mathbf{a}^\\top_{1} \\\\\n",
    "\\mathbf{a}^\\top_{2} \\\\\n",
    "\\vdots \\\\\n",
    "\\mathbf{a}^\\top_m \\\\\n",
    "\\end{bmatrix},$$\n",
    "\n",
    "其中每个$\\mathbf{a}^\\top_{i} \\in \\mathbb{R}^n$都是行向量，表示矩阵的第$i$行。\n",
    "\n",
    "**矩阵向量积$\\mathbf{A}\\mathbf{x}$是一个长度为$m$的列向量，\n",
    "其第$i$个元素是点积$\\mathbf{a}^\\top_i \\mathbf{x}$**：\n",
    "\n",
    "$$\n",
    "\\mathbf{A}\\mathbf{x}\n",
    "= \\begin{bmatrix}\n",
    "\\mathbf{a}^\\top_{1} \\\\\n",
    "\\mathbf{a}^\\top_{2} \\\\\n",
    "\\vdots \\\\\n",
    "\\mathbf{a}^\\top_m \\\\\n",
    "\\end{bmatrix}\\mathbf{x}\n",
    "= \\begin{bmatrix}\n",
    " \\mathbf{a}^\\top_{1} \\mathbf{x}  \\\\\n",
    " \\mathbf{a}^\\top_{2} \\mathbf{x} \\\\\n",
    "\\vdots\\\\\n",
    " \\mathbf{a}^\\top_{m} \\mathbf{x}\\\\\n",
    "\\end{bmatrix}.\n",
    "$$\n"
   ]
  },
  {
   "cell_type": "markdown",
   "id": "a1ba510c",
   "metadata": {
    "origin_pos": 127,
    "tab": [
     "pytorch"
    ]
   },
   "source": [
    "在代码中使用张量表示矩阵-向量积，我们使用`mv`函数。\n",
    "当我们为矩阵`A`和向量`x`调用`torch.mv(A, x)`时，会执行矩阵-向量积。\n",
    "\n",
    "注意，**`A`的列维数（沿轴1的长度）必须与`x`的维数（其长度）相同**。\n"
   ]
  },
  {
   "cell_type": "code",
   "execution_count": 12,
   "id": "0b2aed0d",
   "metadata": {
    "origin_pos": 130,
    "tab": [
     "pytorch"
    ]
   },
   "outputs": [
    {
     "name": "stdout",
     "output_type": "stream",
     "text": [
      "tensor([[ 0.,  1.,  2.,  3.],\n",
      "        [ 4.,  5.,  6.,  7.],\n",
      "        [ 8.,  9., 10., 11.],\n",
      "        [12., 13., 14., 15.],\n",
      "        [16., 17., 18., 19.]]) tensor([0., 1., 2., 3.])\n"
     ]
    },
    {
     "data": {
      "text/plain": [
       "(torch.Size([5, 4]), torch.Size([4]), tensor([ 14.,  38.,  62.,  86., 110.]))"
      ]
     },
     "execution_count": 12,
     "metadata": {},
     "output_type": "execute_result"
    }
   ],
   "source": [
    "print(A,x)\n",
    "A.shape, x.shape, torch.mv(A, x)"
   ]
  },
  {
   "cell_type": "markdown",
   "id": "c5e3a66d",
   "metadata": {
    "origin_pos": 133
   },
   "source": [
    "## 矩阵-矩阵乘法\n",
    "\n",
    "**矩阵-矩阵乘法**（matrix-matrix multiplication）:\n",
    "\n",
    "假设有两个矩阵$\\mathbf{A} \\in \\mathbb{R}^{n \\times k}$和$\\mathbf{B} \\in \\mathbb{R}^{k \\times m}$：\n",
    "\n",
    "$$\\mathbf{A}=\\begin{bmatrix}\n",
    " a_{11} & a_{12} & \\cdots & a_{1k} \\\\\n",
    " a_{21} & a_{22} & \\cdots & a_{2k} \\\\\n",
    "\\vdots & \\vdots & \\ddots & \\vdots \\\\\n",
    " a_{n1} & a_{n2} & \\cdots & a_{nk} \\\\\n",
    "\\end{bmatrix},\\quad\n",
    "\\mathbf{B}=\\begin{bmatrix}\n",
    " b_{11} & b_{12} & \\cdots & b_{1m} \\\\\n",
    " b_{21} & b_{22} & \\cdots & b_{2m} \\\\\n",
    "\\vdots & \\vdots & \\ddots & \\vdots \\\\\n",
    " b_{k1} & b_{k2} & \\cdots & b_{km} \\\\\n",
    "\\end{bmatrix}.$$\n",
    "\n",
    "用行向量$\\mathbf{a}^\\top_{i} \\in \\mathbb{R}^k$表示矩阵$\\mathbf{A}$的第$i$行，并让列向量$\\mathbf{b}_{j} \\in \\mathbb{R}^k$作为矩阵$\\mathbf{B}$的第$j$列。要生成矩阵积$\\mathbf{C} = \\mathbf{A}\\mathbf{B}$，最简单的方法是考虑$\\mathbf{A}$的行向量和$\\mathbf{B}$的列向量:\n",
    "\n",
    "$$\\mathbf{A}=\n",
    "\\begin{bmatrix}\n",
    "\\mathbf{a}^\\top_{1} \\\\\n",
    "\\mathbf{a}^\\top_{2} \\\\\n",
    "\\vdots \\\\\n",
    "\\mathbf{a}^\\top_n \\\\\n",
    "\\end{bmatrix},\n",
    "\\quad \\mathbf{B}=\\begin{bmatrix}\n",
    " \\mathbf{b}_{1} & \\mathbf{b}_{2} & \\cdots & \\mathbf{b}_{m} \\\\\n",
    "\\end{bmatrix}.\n",
    "$$\n",
    "当我们简单地将每个元素$c_{ij}$计算为点积$\\mathbf{a}^\\top_i \\mathbf{b}_j$:\n",
    "\n",
    "$$\\mathbf{C} = \\mathbf{AB} = \\begin{bmatrix}\n",
    "\\mathbf{a}^\\top_{1} \\\\\n",
    "\\mathbf{a}^\\top_{2} \\\\\n",
    "\\vdots \\\\\n",
    "\\mathbf{a}^\\top_n \\\\\n",
    "\\end{bmatrix}\n",
    "\\begin{bmatrix}\n",
    " \\mathbf{b}_{1} & \\mathbf{b}_{2} & \\cdots & \\mathbf{b}_{m} \\\\\n",
    "\\end{bmatrix}\n",
    "= \\begin{bmatrix}\n",
    "\\mathbf{a}^\\top_{1} \\mathbf{b}_1 & \\mathbf{a}^\\top_{1}\\mathbf{b}_2& \\cdots & \\mathbf{a}^\\top_{1} \\mathbf{b}_m \\\\\n",
    " \\mathbf{a}^\\top_{2}\\mathbf{b}_1 & \\mathbf{a}^\\top_{2} \\mathbf{b}_2 & \\cdots & \\mathbf{a}^\\top_{2} \\mathbf{b}_m \\\\\n",
    " \\vdots & \\vdots & \\ddots &\\vdots\\\\\n",
    "\\mathbf{a}^\\top_{n} \\mathbf{b}_1 & \\mathbf{a}^\\top_{n}\\mathbf{b}_2& \\cdots& \\mathbf{a}^\\top_{n} \\mathbf{b}_m\n",
    "\\end{bmatrix}.\n",
    "$$\n",
    "\n",
    "我们可以将矩阵-矩阵乘法$\\mathbf{AB}$看作简单地执行$m$次矩阵-向量积，并将结果拼接在一起，形成一个$n \\times m$矩阵。"
   ]
  },
  {
   "cell_type": "code",
   "execution_count": 13,
   "id": "763fbcb9",
   "metadata": {
    "origin_pos": 135,
    "tab": [
     "pytorch"
    ]
   },
   "outputs": [
    {
     "data": {
      "text/plain": [
       "tensor([[ 6.,  6.,  6.],\n",
       "        [22., 22., 22.],\n",
       "        [38., 38., 38.],\n",
       "        [54., 54., 54.],\n",
       "        [70., 70., 70.]])"
      ]
     },
     "execution_count": 13,
     "metadata": {},
     "output_type": "execute_result"
    }
   ],
   "source": [
    "B = torch.ones(4, 3)\n",
    "torch.mm(A, B)"
   ]
  },
  {
   "cell_type": "markdown",
   "id": "1c8cae2c-c86e-4e0c-bd45-4f1e18a4967c",
   "metadata": {},
   "source": [
    "矩阵-矩阵乘法`torch.mm()`可以简单地称为**矩阵乘法**，不应与\"Hadamard积\"`*`混淆。"
   ]
  },
  {
   "cell_type": "markdown",
   "id": "f778e455",
   "metadata": {
    "origin_pos": 138
   },
   "source": [
    "## 范数\n",
    "\n",
    "线性代数中最有用的一些运算符是**范数**（norm）。\n",
    "非正式地说，向量的**范数**是表示一个向量有多大。\n",
    "这里考虑的**大小**（size）概念不涉及维度，而是分量的大小。\n",
    "\n",
    "在线性代数中，向量范数是将**向量映射到标量**的函数$f$。\n",
    "给定任意向量$\\mathbf{x}$，向量范数要满足一些属性。\n",
    "\n",
    "第一个性质是：如果我们按常数因子$\\alpha$缩放向量的所有元素，\n",
    "其范数也会按相同常数因子的**绝对值**缩放：\n",
    "\n",
    "$$f(\\alpha \\mathbf{x}) = |\\alpha| f(\\mathbf{x}).$$\n",
    "\n",
    "第二个性质是熟悉的三角不等式:\n",
    "\n",
    "$$f(\\mathbf{x} + \\mathbf{y}) \\leq f(\\mathbf{x}) + f(\\mathbf{y}).$$\n",
    "\n",
    "第三个性质简单地说范数必须是非负的:\n",
    "\n",
    "$$f(\\mathbf{x}) \\geq 0.$$\n",
    "\n",
    "在大多数情况下，任何东西的最小的*大小*是0。\n",
    "最后一个性质要求范数最小为0，当且仅当向量全由0组成。\n",
    "\n",
    "$$\\forall i, [\\mathbf{x}]_i = 0 \\Leftrightarrow f(\\mathbf{x})=0.$$\n",
    "\n",
    "\n",
    "假设$n$维向量$\\mathbf{x}$中的元素是$x_1,\\ldots,x_n$，其\n",
    "\n",
    "- **$L_2$范数：向量元素平方和的平方根**。在$L_2$范数中常常省略下标$2$，$\\|\\mathbf{x}\\|$等同于$\\|\\mathbf{x}\\|_2$。\n",
    "**$$\\|\\mathbf{x}\\|_2 = \\sqrt{\\sum_{i=1}^n x_i^2},$$**\n",
    "\n",
    "- **$L_1$范数：向量元素的绝对值之和**。与$L_2$范数相比，$L_1$范数受异常值的影响较小。\n",
    "**$$\\|\\mathbf{x}\\|_1 = \\sum_{i=1}^n \\left|x_i \\right|.$$**\n",
    "\n",
    "- **$L_p$范数**。$L_2$范数和$L_1$范数都是更一般的$L_p$范数的特例\n",
    "**$$\\|\\mathbf{x}\\|_p = \\left(\\sum_{i=1}^n \\left|x_i \\right|^p \\right)^{1/p}.$$**"
   ]
  },
  {
   "cell_type": "code",
   "execution_count": 14,
   "id": "0d07478e",
   "metadata": {
    "origin_pos": 140,
    "tab": [
     "pytorch"
    ]
   },
   "outputs": [
    {
     "data": {
      "text/plain": [
       "tensor(5.)"
      ]
     },
     "execution_count": 14,
     "metadata": {},
     "output_type": "execute_result"
    }
   ],
   "source": [
    "# L2范数\n",
    "u = torch.tensor([3.0, -4.0])\n",
    "torch.norm(u)"
   ]
  },
  {
   "cell_type": "markdown",
   "id": "7df511e8",
   "metadata": {
    "origin_pos": 143
   },
   "source": [
    "为了计算$L_1$范数，我们将绝对值函数和按元素求和组合起来。"
   ]
  },
  {
   "cell_type": "code",
   "execution_count": 28,
   "id": "3230c3a4",
   "metadata": {
    "origin_pos": 145,
    "tab": [
     "pytorch"
    ]
   },
   "outputs": [
    {
     "data": {
      "text/plain": [
       "(tensor(7.), tensor(7.))"
      ]
     },
     "execution_count": 28,
     "metadata": {},
     "output_type": "execute_result"
    }
   ],
   "source": [
    "# L1范数\n",
    "torch.abs(u).sum(),torch.linalg.norm(u,ord=1)"
   ]
  },
  {
   "cell_type": "markdown",
   "id": "184bbd57",
   "metadata": {
    "origin_pos": 148
   },
   "source": [
    "类似于向量的$L_2$范数，**矩阵**$\\mathbf{X} \\in \\mathbb{R}^{m \\times n}$的**Frobenius范数（Frobenius norm）是矩阵元素平方和的平方根**：\n",
    "\n",
    "**$$\\|\\mathbf{X}\\|_F = \\sqrt{\\sum_{i=1}^m \\sum_{j=1}^n x_{ij}^2}.$$**\n",
    "\n",
    "Frobenius范数满足向量范数的所有性质，它就像是矩阵形向量的$L_2$范数。"
   ]
  },
  {
   "cell_type": "code",
   "execution_count": 17,
   "id": "d70feaaa",
   "metadata": {
    "origin_pos": 150,
    "tab": [
     "pytorch"
    ]
   },
   "outputs": [
    {
     "data": {
      "text/plain": [
       "(tensor([[1., 1., 1.],\n",
       "         [1., 1., 1.],\n",
       "         [1., 1., 1.]]),\n",
       " tensor(3.))"
      ]
     },
     "execution_count": 17,
     "metadata": {},
     "output_type": "execute_result"
    }
   ],
   "source": [
    "X = torch.ones((3,3))\n",
    "X, torch.norm(X)"
   ]
  },
  {
   "cell_type": "markdown",
   "id": "ec197832",
   "metadata": {
    "origin_pos": 153
   },
   "source": [
    "### 范数和目标\n",
    "\n",
    "在深度学习中，我们经常试图解决优化问题：\n",
    "*最大化*分配给观测数据的概率;\n",
    "*最小化*预测和真实观测之间的距离。\n",
    "用向量表示物品（如单词、产品或新闻文章），以便最小化相似项目之间的距离，最大化不同项目之间的距离。\n",
    "目标，或许是深度学习算法最重要的组成部分（除了数据），通常被表达为范数。\n",
    "\n",
    "## 关于线性代数的更多信息\n",
    "\n",
    "\n",
    "如果渴望了解有关线性代数的更多信息，可以参考[线性代数运算的在线附录](https://d2l.ai/chapter_appendix-mathematics-for-deep-learning/geometry-linear-algebraic-ops.html)或其他优秀资源 :cite:`Strang.1993,Kolter.2008,Petersen.Pedersen.ea.2008`。\n",
    "\n",
    "## 小结\n",
    "\n",
    "* 标量、向量、矩阵和张量是线性代数中的基本数学对象。\n",
    "* 向量泛化自标量，矩阵泛化自向量。\n",
    "* 标量、向量、矩阵和张量分别具有零、一、二和任意数量的轴。\n",
    "* 一个张量可以通过`sum`和`mean`沿指定的轴降低维度。\n",
    "* 两个矩阵的按元素乘法被称为他们的Hadamard积。它与矩阵乘法不同。\n",
    "* 在深度学习中，我们经常使用范数，如$L_1$范数、$L_2$范数和Frobenius范数。\n",
    "* 我们可以对标量、向量、矩阵和张量执行各种操作。\n",
    "\n",
    "## 练习\n",
    "\n",
    "1. 证明一个矩阵$\\mathbf{A}$的转置的转置是$\\mathbf{A}$，即$(\\mathbf{A}^\\top)^\\top = \\mathbf{A}$。\n"
   ]
  },
  {
   "cell_type": "code",
   "execution_count": 18,
   "id": "14ec281b-10d3-4814-b00d-ed36617e6220",
   "metadata": {},
   "outputs": [
    {
     "data": {
      "text/plain": [
       "tensor([[True, True, True, True],\n",
       "        [True, True, True, True],\n",
       "        [True, True, True, True],\n",
       "        [True, True, True, True],\n",
       "        [True, True, True, True]])"
      ]
     },
     "execution_count": 18,
     "metadata": {},
     "output_type": "execute_result"
    }
   ],
   "source": [
    "A = torch.arange(20).reshape(5, 4)\n",
    "A.T.T == A"
   ]
  },
  {
   "cell_type": "markdown",
   "id": "9d89357e-e83a-4668-bdc5-d1f17ea0400f",
   "metadata": {},
   "source": [
    "2. 给出两个矩阵$\\mathbf{A}$和$\\mathbf{B}$，证明“它们转置的和”等于“它们和的转置”，即$\\mathbf{A}^\\top + \\mathbf{B}^\\top = (\\mathbf{A} + \\mathbf{B})^\\top$。"
   ]
  },
  {
   "cell_type": "code",
   "execution_count": 20,
   "id": "dc179177-6012-4bf0-8dec-3a5e03c30de6",
   "metadata": {},
   "outputs": [
    {
     "data": {
      "text/plain": [
       "tensor([[True, True, True, True, True],\n",
       "        [True, True, True, True, True],\n",
       "        [True, True, True, True, True],\n",
       "        [True, True, True, True, True]])"
      ]
     },
     "execution_count": 20,
     "metadata": {},
     "output_type": "execute_result"
    }
   ],
   "source": [
    "A = torch.arange(20).reshape(5, 4)\n",
    "B = torch.ones(5,4)\n",
    "(A.T+B.T) == ((A+B).T)"
   ]
  },
  {
   "cell_type": "markdown",
   "id": "4d8a8d6f-ee02-4863-93cb-0ac4ebb7c20f",
   "metadata": {},
   "source": [
    "3. 给定任意方阵$\\mathbf{A}$，$\\mathbf{A} + \\mathbf{A}^\\top$总是对称的吗?为什么?\n",
    "\n",
    "- 是的。因为$\\mathbf{A}^\\top + \\mathbf{B}^\\top = (\\mathbf{A} + \\mathbf{B})^\\top$，且 $(\\mathbf{A}^\\top)^\\top = \\mathbf{A}$，所以$(\\mathbf{A} + \\mathbf{A}^\\top)^\\top = \\mathbf{A}^\\top + (\\mathbf{A}^\\top)^\\top = \\mathbf{A}^\\top + \\mathbf{A}$"
   ]
  },
  {
   "cell_type": "code",
   "execution_count": 22,
   "id": "6ad0443f-226b-40ce-b8f3-64b4bfdd8ac0",
   "metadata": {},
   "outputs": [
    {
     "data": {
      "text/plain": [
       "tensor([[True, True, True, True, True],\n",
       "        [True, True, True, True, True],\n",
       "        [True, True, True, True, True],\n",
       "        [True, True, True, True, True],\n",
       "        [True, True, True, True, True]])"
      ]
     },
     "execution_count": 22,
     "metadata": {},
     "output_type": "execute_result"
    }
   ],
   "source": [
    "A = torch.arange(25).reshape(5, 5)\n",
    "B = A + A.T\n",
    "B == B.T"
   ]
  },
  {
   "cell_type": "markdown",
   "id": "f7d3e9ac-a084-4ce9-92ae-40e428929373",
   "metadata": {},
   "source": [
    "4. 本节中定义了形状$(2,3,4)$的张量`X`。`len(X)`的输出结果是什么？"
   ]
  },
  {
   "cell_type": "code",
   "execution_count": 21,
   "id": "456ef227-269e-4083-83b9-5e3e62ccf35d",
   "metadata": {},
   "outputs": [
    {
     "data": {
      "text/plain": [
       "2"
      ]
     },
     "execution_count": 21,
     "metadata": {},
     "output_type": "execute_result"
    }
   ],
   "source": [
    "z = torch.ones(2,3,4) # 非向量\n",
    "len(z)"
   ]
  },
  {
   "cell_type": "markdown",
   "id": "9d5a9065-e09d-406e-a134-34a0ff910092",
   "metadata": {},
   "source": [
    "5. 对于任意形状的张量`X`,`len(X)`是否总是对应于`X`特定轴的长度?这个轴是什么?\n",
    "\n",
    "- 是的，dim=0"
   ]
  },
  {
   "cell_type": "markdown",
   "id": "9fb082a2-c68b-4596-ae0c-e86a2eff7484",
   "metadata": {},
   "source": [
    "6. 运行`A/A.sum(axis=1)`，看看会发生什么。请分析一下原因？\n",
    "\n",
    "- 会报错。A.sum(axis=1)会将A降维，两者维度不满足广播要求，无法进行除法。"
   ]
  },
  {
   "cell_type": "code",
   "execution_count": 25,
   "id": "30cefc9b-494d-4088-948e-934128568af6",
   "metadata": {},
   "outputs": [
    {
     "name": "stdout",
     "output_type": "stream",
     "text": [
      "tensor([ 6, 22, 38, 54, 70])\n"
     ]
    },
    {
     "ename": "RuntimeError",
     "evalue": "The size of tensor a (4) must match the size of tensor b (5) at non-singleton dimension 1",
     "output_type": "error",
     "traceback": [
      "\u001b[0;31m---------------------------------------------------------------------------\u001b[0m",
      "\u001b[0;31mRuntimeError\u001b[0m                              Traceback (most recent call last)",
      "Cell \u001b[0;32mIn[25], line 3\u001b[0m\n\u001b[1;32m      1\u001b[0m A \u001b[38;5;241m=\u001b[39m torch\u001b[38;5;241m.\u001b[39marange(\u001b[38;5;241m20\u001b[39m)\u001b[38;5;241m.\u001b[39mreshape(\u001b[38;5;241m5\u001b[39m, \u001b[38;5;241m4\u001b[39m)\n\u001b[1;32m      2\u001b[0m \u001b[38;5;28mprint\u001b[39m(A\u001b[38;5;241m.\u001b[39msum(axis\u001b[38;5;241m=\u001b[39m\u001b[38;5;241m1\u001b[39m))\n\u001b[0;32m----> 3\u001b[0m \u001b[43mA\u001b[49m\u001b[38;5;241;43m/\u001b[39;49m\u001b[43mA\u001b[49m\u001b[38;5;241;43m.\u001b[39;49m\u001b[43msum\u001b[49m\u001b[43m(\u001b[49m\u001b[43maxis\u001b[49m\u001b[38;5;241;43m=\u001b[39;49m\u001b[38;5;241;43m1\u001b[39;49m\u001b[43m)\u001b[49m\n",
      "\u001b[0;31mRuntimeError\u001b[0m: The size of tensor a (4) must match the size of tensor b (5) at non-singleton dimension 1"
     ]
    }
   ],
   "source": [
    "A = torch.arange(20).reshape(5, 4)\n",
    "print(A.sum(axis=1))\n",
    "A/A.sum(axis=1)"
   ]
  },
  {
   "cell_type": "markdown",
   "id": "fc253829-e35e-4958-9ab6-b630c8a533b5",
   "metadata": {},
   "source": [
    "7. 考虑一个具有形状$(2,3,4)$的张量，在轴0、1、2上的求和输出是什么形状?"
   ]
  },
  {
   "cell_type": "code",
   "execution_count": 26,
   "id": "ad9e334a-77c2-41b9-b808-16443556941f",
   "metadata": {},
   "outputs": [
    {
     "data": {
      "text/plain": [
       "(torch.Size([3, 4]), torch.Size([2, 4]), torch.Size([2, 3]))"
      ]
     },
     "execution_count": 26,
     "metadata": {},
     "output_type": "execute_result"
    }
   ],
   "source": [
    "z = torch.ones(2,3,4) \n",
    "z.sum(axis=0).shape,z.sum(axis=1).shape,z.sum(axis=2).shape"
   ]
  },
  {
   "cell_type": "markdown",
   "id": "7de96429-bcd1-4645-ab8f-78a545212db8",
   "metadata": {},
   "source": [
    "8. 为`linalg.norm`函数提供3个或更多轴的张量，并观察其输出。对于任意形状的张量这个函数计算得到什么?\n",
    "\n",
    "- `torch.linalg.norm(input, ord=None, dim=None, keepdim=False, dtype=None) -> Tensor`\n",
    "    - `input`:要计算范数的张量。\n",
    "    - `ord` (可选):范数的类型，决定范数的计算公式。常见值：\n",
    "        - None（默认）：计算 Frobenius 范数（矩阵）或 2 范数（向量）。\n",
    "        - 1: 1 范数（列绝对值之和，或向量绝对值之和）。\n",
    "        - 2: 2 范数（Euclidean 范数，平方和的平方根）。\n",
    "        - 'fro': Frobenius 范数（矩阵的元素平方和开方）。\n",
    "        - inf: 无穷范数（矩阵的行绝对值和最大值）。\n",
    "        - -inf: 负无穷范数（矩阵的行绝对值和最小值）。\n",
    "    - `dim` (可选):指定计算范数的维度。\n",
    "        - 若为 None，计算整个张量的范数。\n",
    "        - 若指定为单个或多个维度，则按维度计算范数。\n",
    "    - `keepdim` (布尔，可选): 如果为 True，结果会保留被归约的维度，维度的大小为 1。\n",
    "    - `dtype` (可选):指定计算中使用的数据类型，常用于提高数值精度。"
   ]
  },
  {
   "cell_type": "code",
   "execution_count": 27,
   "id": "68006c9f-0919-432f-8b88-d9768487fa28",
   "metadata": {},
   "outputs": [
    {
     "data": {
      "text/plain": [
       "tensor(4.8990)"
      ]
     },
     "execution_count": 27,
     "metadata": {},
     "output_type": "execute_result"
    }
   ],
   "source": [
    "z = torch.ones(2,3,4) \n",
    "torch.linalg.norm(z)"
   ]
  },
  {
   "cell_type": "markdown",
   "id": "5de773be",
   "metadata": {
    "origin_pos": 155,
    "tab": [
     "pytorch"
    ]
   },
   "source": [
    "[Discussions](https://discuss.d2l.ai/t/1751)\n"
   ]
  }
 ],
 "metadata": {
  "kernelspec": {
   "display_name": "Python 3 (ipykernel)",
   "language": "python",
   "name": "python3"
  },
  "language_info": {
   "codemirror_mode": {
    "name": "ipython",
    "version": 3
   },
   "file_extension": ".py",
   "mimetype": "text/x-python",
   "name": "python",
   "nbconvert_exporter": "python",
   "pygments_lexer": "ipython3",
   "version": "3.9.23"
  }
 },
 "nbformat": 4,
 "nbformat_minor": 5
}
