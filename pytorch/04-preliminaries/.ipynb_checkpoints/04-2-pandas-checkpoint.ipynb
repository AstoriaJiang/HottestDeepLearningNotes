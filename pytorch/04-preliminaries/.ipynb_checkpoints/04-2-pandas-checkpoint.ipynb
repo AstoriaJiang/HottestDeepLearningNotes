{
 "cells": [
  {
   "cell_type": "markdown",
   "id": "5b45872a",
   "metadata": {
    "origin_pos": 0
   },
   "source": [
    "# 数据预处理\n",
    "\n",
    "在Python中常用的数据分析工具中，我们通常使用`pandas`软件包，`pandas`可以与张量兼容。\n",
    "\n",
    "本节我们将简要介绍使用`pandas`预处理原始数据，并将原始数据转换为张量格式的步骤。\n"
   ]
  },
  {
   "cell_type": "markdown",
   "id": "ca7d98e2-247d-4658-9690-0624fa9980a5",
   "metadata": {},
   "source": [
    "## 读取数据集\n",
    "\n",
    "举一个例子，我们首先**创建一个人工数据集，并存储在CSV（逗号分隔值）文件**\n",
    "`../data/house_tiny.csv`中。\n",
    "\n",
    "下面我们将数据集**按行写入CSV文件**中。"
   ]
  },
  {
   "cell_type": "code",
   "execution_count": 34,
   "id": "5f716622",
   "metadata": {
    "origin_pos": 1,
    "tab": [
     "pytorch"
    ]
   },
   "outputs": [],
   "source": [
    "import os\n",
    "\n",
    "os.makedirs(os.path.join('..', 'data'), exist_ok=True)\n",
    "data_file = os.path.join('..', 'data', 'house_tiny.csv')\n",
    "with open(data_file, 'w') as f:\n",
    "    f.write('NumRooms,Alley,Price\\n')  # 列名\n",
    "    f.write('NA,Pave,127500\\n')  # 每行表示一个数据样本\n",
    "    f.write('2,NA,106000\\n')\n",
    "    f.write('4,NA,178100\\n')\n",
    "    f.write('NA,NA,140000\\n')"
   ]
  },
  {
   "cell_type": "markdown",
   "id": "0ac5af19",
   "metadata": {
    "origin_pos": 2
   },
   "source": [
    "要**从创建的CSV文件中加载原始数据集**，需要导入`pandas`包并调用`read_csv`函数。\n",
    "\n",
    "该数据集有四行三列。其中每行描述了房间数量（“NumRooms”）、巷子类型（“Alley”）和房屋价格（“Price”）。\n"
   ]
  },
  {
   "cell_type": "code",
   "execution_count": 35,
   "id": "924cf71d",
   "metadata": {
    "origin_pos": 3,
    "tab": [
     "pytorch"
    ]
   },
   "outputs": [
    {
     "name": "stdout",
     "output_type": "stream",
     "text": [
      "   NumRooms Alley   Price\n",
      "0       NaN  Pave  127500\n",
      "1       2.0   NaN  106000\n",
      "2       4.0   NaN  178100\n",
      "3       NaN   NaN  140000\n"
     ]
    }
   ],
   "source": [
    "# 如果没有安装pandas，只需取消对以下行的注释来安装pandas\n",
    "# !pip install pandas\n",
    "import pandas as pd\n",
    "\n",
    "data = pd.read_csv(data_file)\n",
    "print(data)"
   ]
  },
  {
   "cell_type": "markdown",
   "id": "89042148",
   "metadata": {
    "origin_pos": 4
   },
   "source": [
    "## 处理缺失值\n",
    "\n",
    "注意，“NaN”项代表缺失值。\n",
    "\n",
    "为了处理缺失的数据，典型的方法包括**插值法**和**删除法**：\n",
    "\n",
    "- 插值法：用一个替代值弥补缺失值\n",
    "\n",
    "- 删除法：直接忽略缺失值\n",
    "\n",
    "在这里，我们将考虑插值法。\n",
    "\n",
    "**通过位置索引`iloc`，我们将`data`分成`inputs`和`outputs`，**\n",
    "\n",
    "其中前者为`data`的前两列，而后者为`data`的最后一列。\n",
    "对于`inputs`中缺少的数值，我们用同一列的均值替换“NaN”项。\n"
   ]
  },
  {
   "cell_type": "code",
   "execution_count": 26,
   "id": "fde4c583",
   "metadata": {
    "origin_pos": 5,
    "tab": [
     "pytorch"
    ]
   },
   "outputs": [
    {
     "name": "stdout",
     "output_type": "stream",
     "text": [
      "   NumRooms Alley\n",
      "0       3.0  Pave\n",
      "1       2.0   NaN\n",
      "2       4.0   NaN\n",
      "3       3.0   NaN\n"
     ]
    }
   ],
   "source": [
    "inputs, outputs = data.iloc[:, 0:2], data.iloc[:, 2]\n",
    "inputs = inputs.fillna(inputs.mean(numeric_only=True)) # 新版pandas不再自动忽略str，需要手动开启仅数值\n",
    "print(inputs)"
   ]
  },
  {
   "cell_type": "markdown",
   "id": "eb24fa3d",
   "metadata": {
    "origin_pos": 6
   },
   "source": [
    "**对于`inputs`中的类别值或离散值，我们将“NaN”视为一个类别。**\n",
    "\n",
    "由于“巷子类型”（“Alley”）列只接受两种类型的类别值“Pave”和“NaN”，\n",
    "`pandas`可以自动将此列转换为两列“Alley_Pave”和“Alley_nan”。\n",
    "巷子类型为“Pave”的行会将“Alley_Pave”的值设置为1，“Alley_nan”的值设置为0。\n",
    "缺少巷子类型的行会将“Alley_Pave”和“Alley_nan”分别设置为0和1。\n"
   ]
  },
  {
   "cell_type": "code",
   "execution_count": 27,
   "id": "14ee7d74",
   "metadata": {
    "origin_pos": 7,
    "tab": [
     "pytorch"
    ]
   },
   "outputs": [
    {
     "name": "stdout",
     "output_type": "stream",
     "text": [
      "   NumRooms  Alley_Pave  Alley_nan\n",
      "0       3.0           1          0\n",
      "1       2.0           0          1\n",
      "2       4.0           0          1\n",
      "3       3.0           0          1\n"
     ]
    }
   ],
   "source": [
    "# dummy_na=True : 增加一列表示 NaN 值\n",
    "# dtype : 默认为 bool，可设置为 bool/int/float\n",
    "inputs = pd.get_dummies(inputs, dummy_na=True, dtype=int)\n",
    "print(inputs)"
   ]
  },
  {
   "cell_type": "markdown",
   "id": "916d662f-d8e0-43c6-8f60-88b797d88411",
   "metadata": {},
   "source": [
    "**删除缺失值最多的列**"
   ]
  },
  {
   "cell_type": "code",
   "execution_count": 48,
   "id": "aa85a7b5-156a-48dc-91b6-68e82388ef56",
   "metadata": {},
   "outputs": [
    {
     "name": "stdout",
     "output_type": "stream",
     "text": [
      "data2.isnull:\n",
      "   NumRooms  Alley  Price\n",
      "0      True  False  False\n",
      "1     False   True  False\n",
      "2     False   True  False\n",
      "3      True   True  False\n",
      "missing_values:\n",
      "NumRooms    2\n",
      "Alley       3\n",
      "Price       0\n",
      "dtype: int64\n",
      "col_to_drop: Alley\n",
      "data result:\n",
      "   NumRooms   Price\n",
      "0       NaN  127500\n",
      "1       2.0  106000\n",
      "2       4.0  178100\n",
      "3       NaN  140000\n",
      "    Price\n",
      "0  127500\n",
      "1  106000\n",
      "2  178100\n",
      "3  140000\n"
     ]
    }
   ],
   "source": [
    "data2 = data.iloc[:,:] \n",
    "# .isna()/.isnull(): 统计缺失值，将会输出和原数据相同大小的True和False表\n",
    "print(\"data2.isnull:\")\n",
    "print(data2.isnull())\n",
    "\n",
    "# .sum(): 在请求的轴上对值求和 , 默认为 axis=0\n",
    "missing_values = data2.isnull().sum()\n",
    "print(\"missing_values:\")\n",
    "print(missing_values)\n",
    "\n",
    "# .idxmax(): 请求轴上最大值的第一个出现索引\n",
    "col_to_drop = missing_values.idxmax()\n",
    "print(\"col_to_drop:\",col_to_drop)\n",
    "\n",
    "# .drop(): 从行或列中删除指定的标签\n",
    "data2 = data2.drop(col_to_drop, axis=1)\n",
    "print(\"data result:\")\n",
    "print(data2)\n",
    "\n",
    "def drop_NaN_most_col(data):\n",
    "    nan_nums = data.isnull().sum()\n",
    "    col_to_drop = nan_nums.idxmax()\n",
    "    data = data.drop(col_to_drop, axis=1)\n",
    "    return data\n",
    "\n",
    "print(drop_NaN_most_col(data2))"
   ]
  },
  {
   "cell_type": "code",
   "execution_count": 49,
   "id": "2c9b3c78-9c1b-4363-9b9c-941847fa80cc",
   "metadata": {},
   "outputs": [
    {
     "name": "stdout",
     "output_type": "stream",
     "text": [
      "    Price  NumRooms_2.0  NumRooms_4.0  NumRooms_nan\n",
      "0  127500           0.0           0.0           1.0\n",
      "1  106000           1.0           0.0           0.0\n",
      "2  178100           0.0           1.0           0.0\n",
      "3  140000           0.0           0.0           1.0\n",
      "data2_tensor\n",
      "tensor([[1.2750e+05, 0.0000e+00, 0.0000e+00, 1.0000e+00],\n",
      "        [1.0600e+05, 1.0000e+00, 0.0000e+00, 0.0000e+00],\n",
      "        [1.7810e+05, 0.0000e+00, 1.0000e+00, 0.0000e+00],\n",
      "        [1.4000e+05, 0.0000e+00, 0.0000e+00, 1.0000e+00]], dtype=torch.float64)\n"
     ]
    }
   ],
   "source": [
    "# 转换成张量\n",
    "data2 = pd.get_dummies(data2, dummy_na=True,columns=['NumRooms'], dtype=float)\n",
    "print(data2)\n",
    "data2_tensor = torch.tensor(data2.values)\n",
    "print(\"data2_tensor\")\n",
    "print(data2_tensor)"
   ]
  },
  {
   "cell_type": "markdown",
   "id": "a3831f7f",
   "metadata": {
    "origin_pos": 8
   },
   "source": [
    "## 转换为张量格式\n",
    "\n",
    "**如果`inputs`和`outputs`中的所有条目都是数值类型，它们可以转换为张量格式。**\n",
    "当数据采用张量格式后，可以通过在 :numref:`sec_ndarray`中引入的那些张量函数来进一步操作。\n"
   ]
  },
  {
   "cell_type": "code",
   "execution_count": 28,
   "id": "6a2688a8",
   "metadata": {
    "origin_pos": 10,
    "tab": [
     "pytorch"
    ]
   },
   "outputs": [
    {
     "name": "stdout",
     "output_type": "stream",
     "text": [
      "[[3. 1. 0.]\n",
      " [2. 0. 1.]\n",
      " [4. 0. 1.]\n",
      " [3. 0. 1.]]\n",
      "[127500 106000 178100 140000]\n"
     ]
    },
    {
     "data": {
      "text/plain": [
       "(tensor([[3., 1., 0.],\n",
       "         [2., 0., 1.],\n",
       "         [4., 0., 1.],\n",
       "         [3., 0., 1.]], dtype=torch.float64),\n",
       " tensor([127500, 106000, 178100, 140000]))"
      ]
     },
     "execution_count": 28,
     "metadata": {},
     "output_type": "execute_result"
    }
   ],
   "source": [
    "import torch\n",
    "\n",
    "print(inputs.values)\n",
    "print(outputs.values)\n",
    "\n",
    "x, y = torch.tensor(inputs.values), torch.tensor(outputs.values)\n",
    "x, y"
   ]
  },
  {
   "cell_type": "markdown",
   "id": "9f39c12c",
   "metadata": {
    "origin_pos": 13
   },
   "source": [
    "## 小结\n",
    "\n",
    "* `pandas`软件包是Python中常用的数据分析工具中，`pandas`可以与张量兼容。\n",
    "* 用`pandas`处理缺失的数据时，我们可根据情况选择用插值法和删除法。\n",
    "\n",
    "## 练习\n",
    "\n",
    "创建包含更多行和列的原始数据集。\n",
    "\n",
    "1. 删除缺失值最多的列。\n",
    "2. 将预处理后的数据集转换为张量格式。\n"
   ]
  },
  {
   "cell_type": "markdown",
   "id": "0bca10c0",
   "metadata": {
    "origin_pos": 15,
    "tab": [
     "pytorch"
    ]
   },
   "source": [
    "[Discussions](https://discuss.d2l.ai/t/1750)\n"
   ]
  }
 ],
 "metadata": {
  "kernelspec": {
   "display_name": "Python 3 (ipykernel)",
   "language": "python",
   "name": "python3"
  },
  "language_info": {
   "codemirror_mode": {
    "name": "ipython",
    "version": 3
   },
   "file_extension": ".py",
   "mimetype": "text/x-python",
   "name": "python",
   "nbconvert_exporter": "python",
   "pygments_lexer": "ipython3",
   "version": "3.9.23"
  }
 },
 "nbformat": 4,
 "nbformat_minor": 5
}
